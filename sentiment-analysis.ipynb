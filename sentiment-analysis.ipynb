{
 "cells": [
  {
   "cell_type": "markdown",
   "metadata": {},
   "source": [
    "Temat 3: Text Mining\n",
    "Zbiór Danych: sentyment_movies.csv zawiera recenzję filmów z portalu branżowego, wraz ze zmienną zawierającą informację, czy recenzja jest pozytywna, czy negatywna.\n",
    "•\tWskaż, które słowa są najbardziej charakterystyczne dla recenzji pozytywnych, a które dla negatywnych.\n",
    "•\tPamiętaj o filtrowaniu słów stanowiących szum, oraz o wybieraniu tych kategorii słów, które mogą być adekwatne do zadania.\n",
    "•\tZa pomocą znanych Ci metod uczenia maszynowego sprawdź, czy istnieją jakieś zgrupowania współwystępujących ze sobą słów.\n",
    "Wyniki mogą być przedstawione w formie notatnika w Jupyter, albo w formie raporty z użyciem python Dash\n"
   ]
  },
  {
   "cell_type": "markdown",
   "metadata": {},
   "source": [
    "https://www.kaggle.com/oumaimahourrane/sentiment-analysis-ml-models-comparison\n",
    "https://www.kaggle.com/oumaimahourrane/imdb-reviews/kernels\n",
    "https://www.kaggle.com/sergiadi/iet-x-mlda-workshop"
   ]
  }
 ],
 "metadata": {
  "kernelspec": {
   "display_name": "Python 3",
   "language": "python",
   "name": "python3"
  },
  "language_info": {
   "codemirror_mode": {
    "name": "ipython",
    "version": 3
   },
   "file_extension": ".py",
   "mimetype": "text/x-python",
   "name": "python",
   "nbconvert_exporter": "python",
   "pygments_lexer": "ipython3",
   "version": "3.7.1"
  }
 },
 "nbformat": 4,
 "nbformat_minor": 2
}
