{
  "nbformat": 4,
  "nbformat_minor": 0,
  "metadata": {
    "kernelspec": {
      "name": "python3",
      "display_name": "Python 3"
    },
    "language_info": {
      "codemirror_mode": {
        "name": "ipython",
        "version": 3
      },
      "file_extension": ".py",
      "mimetype": "text/x-python",
      "name": "python",
      "nbconvert_exporter": "python",
      "pygments_lexer": "ipython3",
      "version": "3.7.1"
    },
    "colab": {
      "name": "sentiment-analysis.ipynb",
      "provenance": [],
      "toc_visible": true,
      "include_colab_link": true
    },
    "accelerator": "GPU"
  },
  "cells": [
    {
      "cell_type": "markdown",
      "metadata": {
        "id": "view-in-github",
        "colab_type": "text"
      },
      "source": [
        "<a href=\"https://colab.research.google.com/github/Mjauu/text-mining/blob/master/sentiment-analysis.ipynb\" target=\"_parent\"><img src=\"https://colab.research.google.com/assets/colab-badge.svg\" alt=\"Open In Colab\"/></a>"
      ]
    },
    {
      "cell_type": "markdown",
      "metadata": {
        "id": "Zpt5AnGrsep0",
        "colab_type": "text"
      },
      "source": [
        "Text Mining:\n",
        "Zbiór Danych sentyment_movies.csv zawiera recenzję filmów z portalu branżowego, wraz ze zmienną zawierającą informację, czy recenzja jest pozytywna, czy negatywna.\n",
        "\n",
        "- Wskaż, które słowa są najbardziej charakterystyczne dla recenzji pozytywnych, a które dla negatywnych. - OK\n",
        "- Pamiętaj o filtrowaniu słów stanowiących szum, oraz o wybieraniu tych kategorii słów, które mogą być adekwatne do zadania. - OK\n",
        "- Za pomocą znanych Ci metod uczenia maszynowego sprawdź, czy istnieją jakieś zgrupowania współwystępujących ze sobą słów."
      ]
    },
    {
      "cell_type": "markdown",
      "metadata": {
        "id": "BqEn5NBTsep3",
        "colab_type": "text"
      },
      "source": [
        "- https://www.kaggle.com/oumaimahourrane/sentiment-analysis-ml-models-comparison\n",
        "- https://www.kaggle.com/oumaimahourrane/imdb-reviews/kernels\n",
        "- https://www.kaggle.com/sergiadi/iet-x-mlda-workshop\n",
        "- https://www.analyticsvidhya.com/blog/2018/02/the-different-methods-deal-text-data-predictive-python/\n",
        "- https://scikit-learn.org/stable/modules/feature_extraction.html#text-feature-extraction"
      ]
    },
    {
      "cell_type": "markdown",
      "metadata": {
        "id": "HsFzNaTOdau-",
        "colab_type": "text"
      },
      "source": [
        "I follow sklearn proposal for text feature extraction, which means I will be extracting numerical features from text content.\n",
        "\n",
        "\n",
        "1.   Tokenizing strings - each token gets integer id\n",
        "2.   Counting the occurrences of tokens\n",
        "3.   Normalizing and weighting with \n",
        "\n",
        "\n",
        "spacy en_core_web_sm - medium-size English language model\n",
        "\n"
      ]
    },
    {
      "cell_type": "markdown",
      "metadata": {
        "id": "NSKePInLSmH-",
        "colab_type": "text"
      },
      "source": [
        "# 0. Import all the staff"
      ]
    },
    {
      "cell_type": "code",
      "metadata": {
        "id": "orbXmMEXsep5",
        "colab_type": "code",
        "outputId": "63e3ce31-cc7f-46a9-99b8-7a5937f4ebce",
        "colab": {
          "base_uri": "https://localhost:8080/",
          "height": 119
        }
      },
      "source": [
        "import re\n",
        "import nltk\n",
        "import random\n",
        "import spacy\n",
        "\n",
        "import pandas as pd\n",
        "import matplotlib.pyplot as plt\n",
        "import numpy as np\n",
        "import plotly.offline as py\n",
        "import plotly.graph_objs as go\n",
        "\n",
        "from spacy import displacy\n",
        "from nltk.corpus import stopwords\n",
        "from textblob import TextBlob, Word\n",
        "from wordcloud import WordCloud\n",
        "from sklearn.model_selection import train_test_split\n",
        "from sklearn.pipeline import Pipeline\n",
        "from sklearn.preprocessing import label_binarize\n",
        "from sklearn.feature_extraction.text import CountVectorizer\n",
        "from sklearn.metrics import accuracy_score, precision_recall_curve, average_precision_score, roc_curve, auc\n",
        "from sklearn.feature_extraction.text import TfidfVectorizer\n",
        "from sklearn.naive_bayes import MultinomialNB\n",
        "from sklearn.linear_model import Perceptron, LogisticRegression\n",
        "from sklearn.feature_selection import SelectFromModel\n",
        "from time import time\n",
        "\n",
        "nltk.download('wordnet')\n",
        "nltk.download('punkt')\n",
        "nltk.download('stopwords')\n",
        "\n",
        "stop = stopwords.words('english')\n",
        "sp = spacy.load(\"en_core_web_sm\")\n",
        "\n",
        "plt.style.use('fivethirtyeight')\n",
        "py.init_notebook_mode(connected=True)"
      ],
      "execution_count": 1,
      "outputs": [
        {
          "output_type": "stream",
          "text": [
            "[nltk_data] Downloading package wordnet to /root/nltk_data...\n",
            "[nltk_data]   Unzipping corpora/wordnet.zip.\n",
            "[nltk_data] Downloading package punkt to /root/nltk_data...\n",
            "[nltk_data]   Unzipping tokenizers/punkt.zip.\n",
            "[nltk_data] Downloading package stopwords to /root/nltk_data...\n",
            "[nltk_data]   Unzipping corpora/stopwords.zip.\n"
          ],
          "name": "stdout"
        },
        {
          "output_type": "display_data",
          "data": {
            "text/html": [
              "        <script type=\"text/javascript\">\n",
              "        window.PlotlyConfig = {MathJaxConfig: 'local'};\n",
              "        if (window.MathJax) {MathJax.Hub.Config({SVG: {font: \"STIX-Web\"}});}\n",
              "        if (typeof require !== 'undefined') {\n",
              "        require.undef(\"plotly\");\n",
              "        requirejs.config({\n",
              "            paths: {\n",
              "                'plotly': ['https://cdn.plot.ly/plotly-latest.min']\n",
              "            }\n",
              "        });\n",
              "        require(['plotly'], function(Plotly) {\n",
              "            window._Plotly = Plotly;\n",
              "        });\n",
              "        }\n",
              "        </script>\n",
              "        "
            ]
          },
          "metadata": {
            "tags": []
          }
        }
      ]
    },
    {
      "cell_type": "markdown",
      "metadata": {
        "id": "I_8SnWFsSx1X",
        "colab_type": "text"
      },
      "source": [
        "Configure notebook"
      ]
    },
    {
      "cell_type": "code",
      "metadata": {
        "id": "9pa1xv3qsep-",
        "colab_type": "code",
        "colab": {}
      },
      "source": [
        "%matplotlib inline\n",
        "%config InlineBackend.figure_format = 'retina'"
      ],
      "execution_count": 0,
      "outputs": []
    },
    {
      "cell_type": "markdown",
      "metadata": {
        "id": "IGje2MD_seqC",
        "colab_type": "text"
      },
      "source": [
        "# 1. Read data"
      ]
    },
    {
      "cell_type": "markdown",
      "metadata": {
        "id": "0tDG0pMntaJN",
        "colab_type": "text"
      },
      "source": [
        "## 1.1 Get data from GitHub\n",
        "\n",
        "\n",
        "1.   Comma-separated values\n",
        "2.   Latin encoding\n"
      ]
    },
    {
      "cell_type": "code",
      "metadata": {
        "id": "dlCVRGOnseqD",
        "colab_type": "code",
        "outputId": "ed711ce2-ab58-458b-f386-ee4d1c183062",
        "colab": {
          "base_uri": "https://localhost:8080/",
          "height": 204
        }
      },
      "source": [
        "url = 'https://raw.githubusercontent.com/Mjauu/text-mining/master/sentiment_movies.csv'\n",
        "data = pd.read_csv(url, encoding='latin-1')\n",
        "data.head()"
      ],
      "execution_count": 3,
      "outputs": [
        {
          "output_type": "execute_result",
          "data": {
            "text/html": [
              "<div>\n",
              "<style scoped>\n",
              "    .dataframe tbody tr th:only-of-type {\n",
              "        vertical-align: middle;\n",
              "    }\n",
              "\n",
              "    .dataframe tbody tr th {\n",
              "        vertical-align: top;\n",
              "    }\n",
              "\n",
              "    .dataframe thead th {\n",
              "        text-align: right;\n",
              "    }\n",
              "</style>\n",
              "<table border=\"1\" class=\"dataframe\">\n",
              "  <thead>\n",
              "    <tr style=\"text-align: right;\">\n",
              "      <th></th>\n",
              "      <th>SentimentText</th>\n",
              "      <th>Sentiment</th>\n",
              "    </tr>\n",
              "  </thead>\n",
              "  <tbody>\n",
              "    <tr>\n",
              "      <th>0</th>\n",
              "      <td>first think another Disney movie, might good, ...</td>\n",
              "      <td>1</td>\n",
              "    </tr>\n",
              "    <tr>\n",
              "      <th>1</th>\n",
              "      <td>Put aside Dr. House repeat missed, Desperate H...</td>\n",
              "      <td>0</td>\n",
              "    </tr>\n",
              "    <tr>\n",
              "      <th>2</th>\n",
              "      <td>big fan Stephen King's work, film made even gr...</td>\n",
              "      <td>1</td>\n",
              "    </tr>\n",
              "    <tr>\n",
              "      <th>3</th>\n",
              "      <td>watched horrid thing TV. Needless say one movi...</td>\n",
              "      <td>0</td>\n",
              "    </tr>\n",
              "    <tr>\n",
              "      <th>4</th>\n",
              "      <td>truly enjoyed film. acting terrific plot. Jeff...</td>\n",
              "      <td>1</td>\n",
              "    </tr>\n",
              "  </tbody>\n",
              "</table>\n",
              "</div>"
            ],
            "text/plain": [
              "                                       SentimentText  Sentiment\n",
              "0  first think another Disney movie, might good, ...          1\n",
              "1  Put aside Dr. House repeat missed, Desperate H...          0\n",
              "2  big fan Stephen King's work, film made even gr...          1\n",
              "3  watched horrid thing TV. Needless say one movi...          0\n",
              "4  truly enjoyed film. acting terrific plot. Jeff...          1"
            ]
          },
          "metadata": {
            "tags": []
          },
          "execution_count": 3
        }
      ]
    },
    {
      "cell_type": "markdown",
      "metadata": {
        "id": "qOXGi6hKtx60",
        "colab_type": "text"
      },
      "source": [
        "## 1.2. Describe"
      ]
    },
    {
      "cell_type": "code",
      "metadata": {
        "id": "YM18UknLseqH",
        "colab_type": "code",
        "outputId": "c603da25-cd19-40d9-c5a4-29a397201f79",
        "colab": {
          "base_uri": "https://localhost:8080/",
          "height": 297
        }
      },
      "source": [
        "data.describe()"
      ],
      "execution_count": 4,
      "outputs": [
        {
          "output_type": "execute_result",
          "data": {
            "text/html": [
              "<div>\n",
              "<style scoped>\n",
              "    .dataframe tbody tr th:only-of-type {\n",
              "        vertical-align: middle;\n",
              "    }\n",
              "\n",
              "    .dataframe tbody tr th {\n",
              "        vertical-align: top;\n",
              "    }\n",
              "\n",
              "    .dataframe thead th {\n",
              "        text-align: right;\n",
              "    }\n",
              "</style>\n",
              "<table border=\"1\" class=\"dataframe\">\n",
              "  <thead>\n",
              "    <tr style=\"text-align: right;\">\n",
              "      <th></th>\n",
              "      <th>Sentiment</th>\n",
              "    </tr>\n",
              "  </thead>\n",
              "  <tbody>\n",
              "    <tr>\n",
              "      <th>count</th>\n",
              "      <td>25000.00000</td>\n",
              "    </tr>\n",
              "    <tr>\n",
              "      <th>mean</th>\n",
              "      <td>0.50000</td>\n",
              "    </tr>\n",
              "    <tr>\n",
              "      <th>std</th>\n",
              "      <td>0.50001</td>\n",
              "    </tr>\n",
              "    <tr>\n",
              "      <th>min</th>\n",
              "      <td>0.00000</td>\n",
              "    </tr>\n",
              "    <tr>\n",
              "      <th>25%</th>\n",
              "      <td>0.00000</td>\n",
              "    </tr>\n",
              "    <tr>\n",
              "      <th>50%</th>\n",
              "      <td>0.50000</td>\n",
              "    </tr>\n",
              "    <tr>\n",
              "      <th>75%</th>\n",
              "      <td>1.00000</td>\n",
              "    </tr>\n",
              "    <tr>\n",
              "      <th>max</th>\n",
              "      <td>1.00000</td>\n",
              "    </tr>\n",
              "  </tbody>\n",
              "</table>\n",
              "</div>"
            ],
            "text/plain": [
              "         Sentiment\n",
              "count  25000.00000\n",
              "mean       0.50000\n",
              "std        0.50001\n",
              "min        0.00000\n",
              "25%        0.00000\n",
              "50%        0.50000\n",
              "75%        1.00000\n",
              "max        1.00000"
            ]
          },
          "metadata": {
            "tags": []
          },
          "execution_count": 4
        }
      ]
    },
    {
      "cell_type": "markdown",
      "metadata": {
        "id": "Bsi4zsQvt6Ft",
        "colab_type": "text"
      },
      "source": [
        "## 1.3 Check the balance"
      ]
    },
    {
      "cell_type": "code",
      "metadata": {
        "id": "jpoM84x9seqM",
        "colab_type": "code",
        "outputId": "9ef08ccb-2e7a-4f53-98f7-43568172e4de",
        "colab": {
          "base_uri": "https://localhost:8080/",
          "height": 68
        }
      },
      "source": [
        "data['Sentiment'].value_counts()"
      ],
      "execution_count": 5,
      "outputs": [
        {
          "output_type": "execute_result",
          "data": {
            "text/plain": [
              "1    12500\n",
              "0    12500\n",
              "Name: Sentiment, dtype: int64"
            ]
          },
          "metadata": {
            "tags": []
          },
          "execution_count": 5
        }
      ]
    },
    {
      "cell_type": "markdown",
      "metadata": {
        "id": "pbuf3Wa3uFvJ",
        "colab_type": "text"
      },
      "source": [
        "## 1.4 Get sample text"
      ]
    },
    {
      "cell_type": "code",
      "metadata": {
        "id": "J6-koa6IseqQ",
        "colab_type": "code",
        "outputId": "9cfbfd27-8d83-4022-faf7-e8db55bf9728",
        "colab": {
          "base_uri": "https://localhost:8080/",
          "height": 54
        }
      },
      "source": [
        "random.sample(data['SentimentText'].values.tolist(), 1)"
      ],
      "execution_count": 6,
      "outputs": [
        {
          "output_type": "execute_result",
          "data": {
            "text/plain": [
              "['Many lead characters Hideo Gosha\\'s 1969 film \"Hitokiri\" (manslayer; aka \"Tenchu\" -- heaven\\'s punishment) actual historical figures (in \"western\" name-order format): Ryoma Sakamoto, Hampeita Takechi, Shimbei Tanaka, Izo Okada, ____ Anenokoji. name \"Hitokiri,\" historical term, refers group four super-swordsmen carried numerous assassinations key figures ruling Tokugawa Shogunate mid-1800s orders Takechi, leader \"Loyalist\" (i.e. ultra-nationalist, pro-Emperor) faction Tosa clan. struggle about? Sad say, won\\'t find film. \"Brilliant History Lesson\" indeed!<br /><br />No, Gosha much interested showing usual bloody slicing dicing (at absurd length) inner torment not-very-bright killer Izo Okada revealing actual history. Sakamoto, example, someone historical significance, considered father Imperial Japanese Navy. closest Gosha comes providing history lesson scene Sakamoto, Takechi considers traitor Loyalist cause, comes Takechi\\'s mansion try sway ideologically. begins talking international political situation, foreign warships Japan\\'s ports Japan weak militarily defend them. Want know more? Sorry. Gosha cuts potentially fascinating lecture mid sentence(!). much informing audience turning point Japanese history.<br /><br />The film left utter confusion aims two sides struggle. two half centuries Shogunate held central power Japan, institution dedicated preventing social change, preserving feudal relations society. fearful outside contamination, ideological technological. keeping spirit, outlawed firearms, instruments \"leveling\" Europe Americas, peasant could stood samurai. Throughout period, Emperor nothing spiritual figurehead.<br /><br />But, towns, stood neutral zones feudal fiefdoms, new class merchants, landlords craftsmen developing -- class known Europe French name, bourgeoisie. Inevitably, new class gained strength, chafed many confines feudal society. Europe, king (Emperor) became central figure bourgeoisie\\'s struggle power feudal aristocracy. political leadership always fully understand interests class serves. outside world arrived bang 1853, form U.S. Admiral Perry\\'s \"Black Ships,\" ruling elite Japan thrown crisis. military match foreigners. Also, heard havoc British French imperialists wreaking China. Japan save fate weak neighbor? Surprisingly, elements within usually isolationist Shogunate inclined open trade foreigners order obtain advanced technology. point view represented (just barely) film Sakamoto. hand, Emperor-loyal ultra-nationalists, represented Takechi, believed could keep foreigners force, could prevent faction \"selling country.\" (Sound familiar?) Thus, assassination key Shogunate figures order -- away go.<br /><br />Takechi\\'s motivations were, me, film\\'s biggest puzzle. Gosha suggests fighting mainly personal advancement rather Loyalist cause. take represent tenor Loyalists whole? (Do care?)<br /><br />Several reviewers compared film favorably \"Goyokin,\" Gosha made year. But, \"Goyokin\" crackling, suspenseful, adventure yarn, hero worthy sympathy, \"Hitokiri\" plodding, nowhere near compelling lacks hero. Sakamoto could film\\'s hero allowed know -- stands -- well enough achieve status.<br /><br />In view wonderful scores five previous Kurosawa films, Masaru Sato\\'s score disappointing, sounding like something rejected \"Bonanza\" episode.<br /><br />Barry Freed']"
            ]
          },
          "metadata": {
            "tags": []
          },
          "execution_count": 6
        }
      ]
    },
    {
      "cell_type": "markdown",
      "metadata": {
        "id": "e9SMWTsNseqU",
        "colab_type": "text"
      },
      "source": [
        "# 2. Find out data properties"
      ]
    },
    {
      "cell_type": "markdown",
      "metadata": {
        "id": "0NKWBqSvseqV",
        "colab_type": "text"
      },
      "source": [
        "## 2.1 Number of words\n",
        "Negative sentiments could contain a lesser amount of words than the positive ones."
      ]
    },
    {
      "cell_type": "code",
      "metadata": {
        "id": "5vzl9R-EseqW",
        "colab_type": "code",
        "outputId": "c9a70c5c-c561-4e6f-ab41-d769c47e9533",
        "colab": {
          "base_uri": "https://localhost:8080/",
          "height": 204
        }
      },
      "source": [
        "data['WordCount'] = data['SentimentText'].apply(lambda x: len(str(x).split()))\n",
        "data[['SentimentText','WordCount','Sentiment']].head()"
      ],
      "execution_count": 7,
      "outputs": [
        {
          "output_type": "execute_result",
          "data": {
            "text/html": [
              "<div>\n",
              "<style scoped>\n",
              "    .dataframe tbody tr th:only-of-type {\n",
              "        vertical-align: middle;\n",
              "    }\n",
              "\n",
              "    .dataframe tbody tr th {\n",
              "        vertical-align: top;\n",
              "    }\n",
              "\n",
              "    .dataframe thead th {\n",
              "        text-align: right;\n",
              "    }\n",
              "</style>\n",
              "<table border=\"1\" class=\"dataframe\">\n",
              "  <thead>\n",
              "    <tr style=\"text-align: right;\">\n",
              "      <th></th>\n",
              "      <th>SentimentText</th>\n",
              "      <th>WordCount</th>\n",
              "      <th>Sentiment</th>\n",
              "    </tr>\n",
              "  </thead>\n",
              "  <tbody>\n",
              "    <tr>\n",
              "      <th>0</th>\n",
              "      <td>first think another Disney movie, might good, ...</td>\n",
              "      <td>52</td>\n",
              "      <td>1</td>\n",
              "    </tr>\n",
              "    <tr>\n",
              "      <th>1</th>\n",
              "      <td>Put aside Dr. House repeat missed, Desperate H...</td>\n",
              "      <td>86</td>\n",
              "      <td>0</td>\n",
              "    </tr>\n",
              "    <tr>\n",
              "      <th>2</th>\n",
              "      <td>big fan Stephen King's work, film made even gr...</td>\n",
              "      <td>193</td>\n",
              "      <td>1</td>\n",
              "    </tr>\n",
              "    <tr>\n",
              "      <th>3</th>\n",
              "      <td>watched horrid thing TV. Needless say one movi...</td>\n",
              "      <td>63</td>\n",
              "      <td>0</td>\n",
              "    </tr>\n",
              "    <tr>\n",
              "      <th>4</th>\n",
              "      <td>truly enjoyed film. acting terrific plot. Jeff...</td>\n",
              "      <td>65</td>\n",
              "      <td>1</td>\n",
              "    </tr>\n",
              "  </tbody>\n",
              "</table>\n",
              "</div>"
            ],
            "text/plain": [
              "                                       SentimentText  WordCount  Sentiment\n",
              "0  first think another Disney movie, might good, ...         52          1\n",
              "1  Put aside Dr. House repeat missed, Desperate H...         86          0\n",
              "2  big fan Stephen King's work, film made even gr...        193          1\n",
              "3  watched horrid thing TV. Needless say one movi...         63          0\n",
              "4  truly enjoyed film. acting terrific plot. Jeff...         65          1"
            ]
          },
          "metadata": {
            "tags": []
          },
          "execution_count": 7
        }
      ]
    },
    {
      "cell_type": "markdown",
      "metadata": {
        "id": "7dtZydkVlLte",
        "colab_type": "text"
      },
      "source": [
        "Longest sentense."
      ]
    },
    {
      "cell_type": "code",
      "metadata": {
        "id": "KuGnnxPmeKg-",
        "colab_type": "code",
        "colab": {
          "base_uri": "https://localhost:8080/",
          "height": 71
        },
        "outputId": "21b218ce-02ae-4d9b-9d72-554bbe643302"
      },
      "source": [
        "print('Longest sentense: ', data.loc[data['WordCount'].idxmax(), 'WordCount'], ' words')\n",
        "data.loc[data['WordCount'].idxmax(), 'SentimentText']"
      ],
      "execution_count": 8,
      "outputs": [
        {
          "output_type": "stream",
          "text": [
            "Longest sentense:  1480  words\n"
          ],
          "name": "stdout"
        },
        {
          "output_type": "execute_result",
          "data": {
            "text/plain": [
              "'Match 1: Tag Team Table Match Bubba Ray Spike Dudley vs Eddie Guerrero Chris Benoit Bubba Ray Spike Dudley started things Tag Team Table Match Eddie Guerrero Chris Benoit. According rules match, opponents go tables order get win. Benoit Guerrero heated early taking turns hammering first Spike Bubba Ray. German suplex Benoit Bubba took wind Dudley brother. Spike tried help brother, referee restrained Benoit Guerrero ganged corner. Benoit stomping away Bubba, Guerrero set table outside. Spike dashed ring somersaulted top rope onto Guerrero outside! recovering taking care Spike, Guerrero slipped table ring helped Wolverine set up. tandem set double superplex middle rope would put Bubba table, Spike knocked table right brother came crashing down! Guerrero Benoit propped another table corner tried Irish Whip Spike it, Bubba dashed blocked brother. Bubba caught fire lifted opponents back body drops! Bubba slammed Guerrero Spike stomped Wolverine top rope. Bubba held Benoit bay Spike soar Wassup! headbutt! Shortly after, Benoit latched Spike Crossface, match continued even Spike tapped out. Bubba came brother\\'s rescue managed sprawl Benoit table. Bubba leapt middle rope, Benoit moved sent Bubba crashing wood! opponents didn\\'t force table, Bubba allowed stay match. first man eliminated shortly after, though, Spike put Eddie table Dudley Dawg ring apron outside! Benoit put Spike table moments later even score. Within seconds, Bubba nailed Bubba Bomb put Benoit table gave Dudleys win! Winner: Bubba Ray Spike Dudley<br /><br />Match 2: Cruiserweight Championship Jamie Noble vs Billy Kidman Billy Kidman challenged Jamie Noble, brought Nidia ring, Cruiserweight Championship. Noble Kidman locked tumbled ring, raced back inside grappled more. Kidman thwarted Noble\\'s moves, Noble fled outside ring Nidia gave encouragement. fight spread outside ring Noble threw girlfriend challenger. Kidman tossed Nidia aside taken modified arm bar. Noble continued attack Kidman\\'s injured arm back ring. Kidman\\'s injured harm hampered offense, continued battle hard. Noble tried put Kidman away powerbomb challenger countered facebuster. Kidman went finish things Shooting Star Press, Noble broke attempt. Kidman went Shooting Star Press again, time Noble rolled harm\\'s way. Noble flipped Kidman power bomb soon got pin retain WWE Cruiserweight Championship! Winner: Jamie Noble<br /><br />Match 3: European Championship William Regal vs Jeff Hardy William Regal took Jeff Hardy next attempt win back European Championship. Jeff catapulted Regal top rope took hurracanrana ring apron. Back ring, Jeff hit Whisper wind knock Regal loop. Jeff went Swanton Bomb, Regal got knees hit Jeff devastating shot. Jeff managed surprise Regal quick rollup though got pin keep European Championship! Regal started bawling seeing Hardy celebrate way back ramp. Winner: Jeff Hardy<br /><br />Match 4: Chris Jericho vs John Cena Chris Jericho promised end John Cena\\'s career match Vengeance, came next. Jericho tried teach Cena lesson match began suplexing mat. Jericho continued knock Cena around ring cockiness got better him. top rope, Jericho began showboat allowed Cena grab superplex! Cena followed tilt-a-whirl slam taken nasty dropkick gut. rookie recovered hit belly belly suplex couldn\\'t put Y2J away. Jericho launched Lionsault Cena dodged move. Jericho nailed bulldog connected Lionsault, go cover. goaded Cena feet could put Walls Jericho. Cena ideas, reversing move pin attempt getting 1-2-3! Jericho went berserk match. Winner: John Cena<br /><br />Match 5: Intercontinental Championship RVD vs Brock Lesnar via disqualification Next Big Thing Mr. Pay-Per-View tangled Intercontinental Championship line. Brock grabbed title ref draped shoulder momentarily glaring RVD. Van Dam \\'s quickness gave Brock fits early on. big man rolled ring kicked steel steps frustration. Brock pulled together began take charge. Paul Heyman beaming ringside, Brock slammed RVD hard floor outside ring. there, Brock began overpower RVD, throwing ease top rope. RVD landed painfully back, suffer spine cracked steel ring steps. fight returned ring Brock squeezing RVD around ribs. RVD broke away soon leveled Brock kick temple. RVD followed Rolling Thunder Brock managed kick two-count. fight looked like might soon RVD went Five-Star Frog Splash. Brock, though, hoisted Van Dam onto shoulder went F-5, RVD whirled Brock DDT followed Frog Splash! went pin, Heyman pulled ref ring! ref immediately called disqualification soon traded blows Heyman! After, RVD leapt onto Brock top rope threatened hit Van Terminator! Heyman grabbed RVD\\'s leg Brock picked champ time connected F-5 onto steel chair! Winner: RVD<br /><br />Match 6: Booker vs Big Show Booker faced Big Show one-on-one next. Show withstood Booker T\\'s kicks punches slapped Booker corner. thrown ring, Booker picked chair ringside, Big Show punched back Booker\\'s face. Booker tried get back game choking Show camera cable ringside. Booker smashed TV monitor Spanish announcers\\' position Show\\'s skull, delivered scissors kick put men table! Booker crawled back ring Big Show staggered moments later. Show grabbed Booker\\'s throat met low blow kick face. Booker climbed top rope nailed somersaulting leg drop get pin! Winner: Booker T<br /><br />Announcement: Triple H entered ring thunderous ovation fans hoped learn Game would end competing. could speak, Eric Bishoff stopped Game apologize getting involved personal business. Triple H signed RAW, Bischoff promised personal life would never come play again. Bischoff said he\\'s spent past two years networking Hollywood. said everyone looking next breakout WWE Superstar, talking Triple H. Bischoff guaranteed Triple H signed RAW, he\\'d getting top opportunities coming way. Stephanie McMahon stepped issue pitch. said personal history Triple H, two know well. said two unstoppable again. Bischoff cut begged stop. Stephanie cited Triple H told Bischoff said Triple H talent charisma. Bischoff said young time didn\\'t know had, still lot experience Stephanie. two continued bicker back forth, Triple H stepped microphone. Game said would easy say \"screw you\" either one them. Triple H went shake Bischoff\\'s hand, pulled away. said would rather go devil knows, rather one doesn\\'t know. could go further, though, Shawn Michaels came shake things up. HBK said last thing wanted cause trouble. didn\\'t want get involved, remembered pledging bring Triple H nWo. HBK said there\\'s nobody world Triple H better friends with. HBK told friend imagine two back together again, making Bischoff\\'s life living hell. Triple H said tempting offer. turned hugged HBK, making official switch RAW! Triple H HBK left, Bischoff gloated victory. Bischoff said difference two he\\'s got testicles doesn\\'t. Stephanie whacked Bischoff side head left!<br /><br />Match 7: Tag Team Championship Match Christian Lance Storm vs Hollywood Hogan Edge match started loud \"USA\" chants Hogan shoving Christian ropes ring. Canadians took there. Edge scored kick Christian\\'s head planted facebuster Storm get tag Hogan. Hogan began Hulk soon caught Christian big boot leg drop! Storm broke count Christian tossed Hogan ring Storm superkicked icon. Edge tagged soon dropped opponents. speared corner turnbuckles, missed spear Strom hit ref hard instead. Edge nailed DDT, ref could count. Test raced took Hogan leveled Edge boot. Storm tried get pin, Edge kicked two. Riksihi sprinted fend Test, allowing Edge recover spear Storm. Christian distracted ref, though, Y2J dashed clocked Edge Tag Team Championship! Storm rolled got pinfall win title! Winners New Tag Team Champions: Christian Lance Storm<br /><br />Match 8: WWE Undisputed Championship Triple Threat Match. Rock vs Kurt Angle Undertaker Three WWE\\'s successful superstars lined Triple Threat Match Undisputed Championship hanging balance. Taker Rock got face face Kurt Angle begging attention side. got attention form beat form two men. Soon after, Taker spilled ring Rock brawled Angle. Angle gave series suplexes took Rock, Great One countered DDT managed two-count. fight continued outside ring Taker coming life clotheslining Angle repeatedly smacking Rock. Taker Rock got back ring, Taker dropped Rock sidewalk slam get two-count. Rock rebounded, grabbed Taker throat chokeslammed him! Angle broke pin attempt likely would given Rock title. Rock retaliated latching ankle lock Kurt Angle. Angle reversed move Rock Bottomed People\\'s Champion. Soon after, Rock disposed Angle hit People\\'s Elbow Undertaker. Angle tried take advantage disabling Great One outside ring covering Taker, kicked two count. Outside ring, Rock took big swig nearby water bottle spewed liquid Taker\\'s face blind champion. Taker didn\\'t stay disabled long, managed overpower Rock turn attention Angle. Taker landed guillotine leg drop onto Angle, laying ring apron. Rock picked time break pin attempt Kurt Angle. Taker nailed Rock DDT set chokeslam. ANgle tried sneaking steel chair, Taker caught tomfoolery smacked hands. referee got caught ensuing fire didn\\'t see Angle knock Taker silly steel chair. Angle went cover Taker Rock lay prone, Dead Man somehow got shoulder up. Angle tried pin Rock, kicked out. Rock got landed Angle sharpshooter! Angle looked like tap, Taker kicked Rock submission hold. Taker picked Rock crashed Last Ride. Dead Man covered win, Angle raced picked Taker ankle lock! Taker went delirious pain, managed counter. picked Angle last ride, Angle put triangle choke! looked like Taker pass out, Rock broke Angle\\'s hold find caught ankle lock. Rock got hold watched Taker chokeslam Angle. Rocky hit Rock Bottom, Taker refused go kicked out. Angle whirled Taker Angle Slam Rock Bottomed Great One pinned! Winner New WWE Champion: Rock<br /><br />~Finally decent PPV! Lately PPV weren\\'t good, one winner. give PPV A-<br /><br />'"
            ]
          },
          "metadata": {
            "tags": []
          },
          "execution_count": 8
        }
      ]
    },
    {
      "cell_type": "markdown",
      "metadata": {
        "id": "FoVvSgLWlO62",
        "colab_type": "text"
      },
      "source": [
        "Shortest sentense."
      ]
    },
    {
      "cell_type": "code",
      "metadata": {
        "id": "Khhx39pLevK3",
        "colab_type": "code",
        "colab": {
          "base_uri": "https://localhost:8080/",
          "height": 51
        },
        "outputId": "1d2abf86-de24-4919-f92c-201b90eef819"
      },
      "source": [
        "print('Shortest sentense: ', data.loc[data['WordCount'].idxmin(), 'WordCount'], ' words')\n",
        "data.loc[data['WordCount'].idxmin(), 'SentimentText']"
      ],
      "execution_count": 9,
      "outputs": [
        {
          "output_type": "stream",
          "text": [
            "Shortest sentense:  1  words\n"
          ],
          "name": "stdout"
        },
        {
          "output_type": "execute_result",
          "data": {
            "text/plain": [
              "'Err:510'"
            ]
          },
          "metadata": {
            "tags": []
          },
          "execution_count": 9
        }
      ]
    },
    {
      "cell_type": "code",
      "metadata": {
        "id": "2lmymzzyf1s1",
        "colab_type": "code",
        "colab": {
          "base_uri": "https://localhost:8080/",
          "height": 204
        },
        "outputId": "c5cdfac5-aad4-4a90-dfa0-e26700839548"
      },
      "source": [
        "data.sort_values(by=['WordCount'], inplace=True)\n",
        "data[['SentimentText','WordCount']].head()"
      ],
      "execution_count": 10,
      "outputs": [
        {
          "output_type": "execute_result",
          "data": {
            "text/html": [
              "<div>\n",
              "<style scoped>\n",
              "    .dataframe tbody tr th:only-of-type {\n",
              "        vertical-align: middle;\n",
              "    }\n",
              "\n",
              "    .dataframe tbody tr th {\n",
              "        vertical-align: top;\n",
              "    }\n",
              "\n",
              "    .dataframe thead th {\n",
              "        text-align: right;\n",
              "    }\n",
              "</style>\n",
              "<table border=\"1\" class=\"dataframe\">\n",
              "  <thead>\n",
              "    <tr style=\"text-align: right;\">\n",
              "      <th></th>\n",
              "      <th>SentimentText</th>\n",
              "      <th>WordCount</th>\n",
              "    </tr>\n",
              "  </thead>\n",
              "  <tbody>\n",
              "    <tr>\n",
              "      <th>21102</th>\n",
              "      <td>Err:510</td>\n",
              "      <td>1</td>\n",
              "    </tr>\n",
              "    <tr>\n",
              "      <th>11050</th>\n",
              "      <td>movie terrible good effects.</td>\n",
              "      <td>4</td>\n",
              "    </tr>\n",
              "    <tr>\n",
              "      <th>19922</th>\n",
              "      <td>Ming Merciless little Bardwork movie foul!</td>\n",
              "      <td>6</td>\n",
              "    </tr>\n",
              "    <tr>\n",
              "      <th>916</th>\n",
              "      <td>Adrian Pasdar excellent film. makes fascinatin...</td>\n",
              "      <td>7</td>\n",
              "    </tr>\n",
              "    <tr>\n",
              "      <th>15527</th>\n",
              "      <td>wouldn't rent one even dollar rental night.</td>\n",
              "      <td>7</td>\n",
              "    </tr>\n",
              "  </tbody>\n",
              "</table>\n",
              "</div>"
            ],
            "text/plain": [
              "                                           SentimentText  WordCount\n",
              "21102                                            Err:510          1\n",
              "11050                       movie terrible good effects.          4\n",
              "19922         Ming Merciless little Bardwork movie foul!          6\n",
              "916    Adrian Pasdar excellent film. makes fascinatin...          7\n",
              "15527        wouldn't rent one even dollar rental night.          7"
            ]
          },
          "metadata": {
            "tags": []
          },
          "execution_count": 10
        }
      ]
    },
    {
      "cell_type": "markdown",
      "metadata": {
        "id": "PNFg1yMpldC-",
        "colab_type": "text"
      },
      "source": [
        "Remove shortest sentense as it brings no value to keep it in dataframe."
      ]
    },
    {
      "cell_type": "code",
      "metadata": {
        "id": "qTQynLYVhuhI",
        "colab_type": "code",
        "colab": {}
      },
      "source": [
        "data = data.drop(data['WordCount'].idxmin())"
      ],
      "execution_count": 0,
      "outputs": []
    },
    {
      "cell_type": "markdown",
      "metadata": {
        "id": "bkCiLgPRme1s",
        "colab_type": "text"
      },
      "source": [
        "Sort by index"
      ]
    },
    {
      "cell_type": "code",
      "metadata": {
        "id": "Td5pWLRKmhtD",
        "colab_type": "code",
        "colab": {}
      },
      "source": [
        "data.sort_index(inplace=True)"
      ],
      "execution_count": 0,
      "outputs": []
    },
    {
      "cell_type": "markdown",
      "metadata": {
        "id": "cmMs3HP8seqa",
        "colab_type": "text"
      },
      "source": [
        "## 2.2 Number of characters\n",
        "First remove all whitespaces, then calculate number of remaining characters."
      ]
    },
    {
      "cell_type": "code",
      "metadata": {
        "id": "W9Ea7A6Iseqb",
        "colab_type": "code",
        "outputId": "f491e31b-782c-4888-aced-e734f098d564",
        "colab": {
          "base_uri": "https://localhost:8080/",
          "height": 204
        }
      },
      "source": [
        "data['CharCount'] = data['SentimentText'].apply(lambda x: len(\"\".join(x.split())))\n",
        "data[['SentimentText','CharCount','Sentiment']].head()"
      ],
      "execution_count": 13,
      "outputs": [
        {
          "output_type": "execute_result",
          "data": {
            "text/html": [
              "<div>\n",
              "<style scoped>\n",
              "    .dataframe tbody tr th:only-of-type {\n",
              "        vertical-align: middle;\n",
              "    }\n",
              "\n",
              "    .dataframe tbody tr th {\n",
              "        vertical-align: top;\n",
              "    }\n",
              "\n",
              "    .dataframe thead th {\n",
              "        text-align: right;\n",
              "    }\n",
              "</style>\n",
              "<table border=\"1\" class=\"dataframe\">\n",
              "  <thead>\n",
              "    <tr style=\"text-align: right;\">\n",
              "      <th></th>\n",
              "      <th>SentimentText</th>\n",
              "      <th>CharCount</th>\n",
              "      <th>Sentiment</th>\n",
              "    </tr>\n",
              "  </thead>\n",
              "  <tbody>\n",
              "    <tr>\n",
              "      <th>0</th>\n",
              "      <td>first think another Disney movie, might good, ...</td>\n",
              "      <td>263</td>\n",
              "      <td>1</td>\n",
              "    </tr>\n",
              "    <tr>\n",
              "      <th>1</th>\n",
              "      <td>Put aside Dr. House repeat missed, Desperate H...</td>\n",
              "      <td>480</td>\n",
              "      <td>0</td>\n",
              "    </tr>\n",
              "    <tr>\n",
              "      <th>2</th>\n",
              "      <td>big fan Stephen King's work, film made even gr...</td>\n",
              "      <td>1076</td>\n",
              "      <td>1</td>\n",
              "    </tr>\n",
              "    <tr>\n",
              "      <th>3</th>\n",
              "      <td>watched horrid thing TV. Needless say one movi...</td>\n",
              "      <td>352</td>\n",
              "      <td>0</td>\n",
              "    </tr>\n",
              "    <tr>\n",
              "      <th>4</th>\n",
              "      <td>truly enjoyed film. acting terrific plot. Jeff...</td>\n",
              "      <td>413</td>\n",
              "      <td>1</td>\n",
              "    </tr>\n",
              "  </tbody>\n",
              "</table>\n",
              "</div>"
            ],
            "text/plain": [
              "                                       SentimentText  CharCount  Sentiment\n",
              "0  first think another Disney movie, might good, ...        263          1\n",
              "1  Put aside Dr. House repeat missed, Desperate H...        480          0\n",
              "2  big fan Stephen King's work, film made even gr...       1076          1\n",
              "3  watched horrid thing TV. Needless say one movi...        352          0\n",
              "4  truly enjoyed film. acting terrific plot. Jeff...        413          1"
            ]
          },
          "metadata": {
            "tags": []
          },
          "execution_count": 13
        }
      ]
    },
    {
      "cell_type": "markdown",
      "metadata": {
        "id": "ORgtmDq9JxM5",
        "colab_type": "text"
      },
      "source": [
        "The length of the text varies a lot."
      ]
    },
    {
      "cell_type": "code",
      "metadata": {
        "id": "cswFcaD2Iwsa",
        "colab_type": "code",
        "colab": {
          "base_uri": "https://localhost:8080/",
          "height": 68
        },
        "outputId": "fc6a0616-32da-4e79-83e3-386d2b76d2ae"
      },
      "source": [
        "lens = data.SentimentText.str.len()\n",
        "print('Mean: ', lens.mean())\n",
        "print('Std: ', lens.std())\n",
        "print('Max: ', lens.max())"
      ],
      "execution_count": 31,
      "outputs": [
        {
          "output_type": "stream",
          "text": [
            "Mean:  933.9395975839034\n",
            "Std:  718.4445845306224\n",
            "Max:  9836\n"
          ],
          "name": "stdout"
        }
      ]
    },
    {
      "cell_type": "code",
      "metadata": {
        "id": "_jLTcylkJL8n",
        "colab_type": "code",
        "colab": {
          "base_uri": "https://localhost:8080/",
          "height": 278
        },
        "outputId": "e8aa8567-a160-4e6f-9f94-97b8f41c3a17"
      },
      "source": [
        "lens.hist()\n",
        "plt.title('Histogram: Length of the text');"
      ],
      "execution_count": 34,
      "outputs": [
        {
          "output_type": "display_data",
          "data": {
            "image/png": "[encoded data removed]",
            "text/plain": [
              "<Figure size 432x288 with 1 Axes>"
            ]
          },
          "metadata": {
            "tags": [],
            "image/png": {
              "width": 430,
              "height": 261
            }
          }
        }
      ]
    },
    {
      "cell_type": "markdown",
      "metadata": {
        "id": "7z3XoYj6seqf",
        "colab_type": "text"
      },
      "source": [
        "## 2.3 Average word length"
      ]
    },
    {
      "cell_type": "code",
      "metadata": {
        "id": "a3Jm8Pi5seqh",
        "colab_type": "code",
        "outputId": "18f2893c-58fb-41a7-d941-e1c4b867ba03",
        "colab": {
          "base_uri": "https://localhost:8080/",
          "height": 204
        }
      },
      "source": [
        "def avg_word(sentence):\n",
        "  words = sentence.split()\n",
        "  return (sum(len(word) for word in words)/len(words))\n",
        "\n",
        "data['AvgWordLength'] = data['SentimentText'].apply(lambda x: avg_word(x))\n",
        "data[['SentimentText','AvgWordLength','Sentiment']].head()"
      ],
      "execution_count": 14,
      "outputs": [
        {
          "output_type": "execute_result",
          "data": {
            "text/html": [
              "<div>\n",
              "<style scoped>\n",
              "    .dataframe tbody tr th:only-of-type {\n",
              "        vertical-align: middle;\n",
              "    }\n",
              "\n",
              "    .dataframe tbody tr th {\n",
              "        vertical-align: top;\n",
              "    }\n",
              "\n",
              "    .dataframe thead th {\n",
              "        text-align: right;\n",
              "    }\n",
              "</style>\n",
              "<table border=\"1\" class=\"dataframe\">\n",
              "  <thead>\n",
              "    <tr style=\"text-align: right;\">\n",
              "      <th></th>\n",
              "      <th>SentimentText</th>\n",
              "      <th>AvgWordLength</th>\n",
              "      <th>Sentiment</th>\n",
              "    </tr>\n",
              "  </thead>\n",
              "  <tbody>\n",
              "    <tr>\n",
              "      <th>0</th>\n",
              "      <td>first think another Disney movie, might good, ...</td>\n",
              "      <td>5.057692</td>\n",
              "      <td>1</td>\n",
              "    </tr>\n",
              "    <tr>\n",
              "      <th>1</th>\n",
              "      <td>Put aside Dr. House repeat missed, Desperate H...</td>\n",
              "      <td>5.581395</td>\n",
              "      <td>0</td>\n",
              "    </tr>\n",
              "    <tr>\n",
              "      <th>2</th>\n",
              "      <td>big fan Stephen King's work, film made even gr...</td>\n",
              "      <td>5.575130</td>\n",
              "      <td>1</td>\n",
              "    </tr>\n",
              "    <tr>\n",
              "      <th>3</th>\n",
              "      <td>watched horrid thing TV. Needless say one movi...</td>\n",
              "      <td>5.587302</td>\n",
              "      <td>0</td>\n",
              "    </tr>\n",
              "    <tr>\n",
              "      <th>4</th>\n",
              "      <td>truly enjoyed film. acting terrific plot. Jeff...</td>\n",
              "      <td>6.353846</td>\n",
              "      <td>1</td>\n",
              "    </tr>\n",
              "  </tbody>\n",
              "</table>\n",
              "</div>"
            ],
            "text/plain": [
              "                                       SentimentText  AvgWordLength  Sentiment\n",
              "0  first think another Disney movie, might good, ...       5.057692          1\n",
              "1  Put aside Dr. House repeat missed, Desperate H...       5.581395          0\n",
              "2  big fan Stephen King's work, film made even gr...       5.575130          1\n",
              "3  watched horrid thing TV. Needless say one movi...       5.587302          0\n",
              "4  truly enjoyed film. acting terrific plot. Jeff...       6.353846          1"
            ]
          },
          "metadata": {
            "tags": []
          },
          "execution_count": 14
        }
      ]
    },
    {
      "cell_type": "markdown",
      "metadata": {
        "id": "OwTcW50Fseqk",
        "colab_type": "text"
      },
      "source": [
        "## 2.4 Number of stopwords\n",
        "Stopwords are the English words which does not add much meaning to a sentence. I use stopwords from nltk.corpus library, here en_core_web_sm corpus."
      ]
    },
    {
      "cell_type": "code",
      "metadata": {
        "id": "sT4nBpw2DhCE",
        "colab_type": "code",
        "outputId": "0a4d394f-8cc3-4d3e-910f-e07b899e43e4",
        "colab": {
          "base_uri": "https://localhost:8080/",
          "height": 34
        }
      },
      "source": [
        "print('Example stop words: ', stop[:10])"
      ],
      "execution_count": 15,
      "outputs": [
        {
          "output_type": "stream",
          "text": [
            "Example stop words:  ['i', 'me', 'my', 'myself', 'we', 'our', 'ours', 'ourselves', 'you', \"you're\"]\n"
          ],
          "name": "stdout"
        }
      ]
    },
    {
      "cell_type": "code",
      "metadata": {
        "id": "1BHzgtkCEGAX",
        "colab_type": "code",
        "outputId": "d013cdf6-bf91-4823-b194-e1d223a247fc",
        "colab": {
          "base_uri": "https://localhost:8080/",
          "height": 34
        }
      },
      "source": [
        "print('There are ', len(stop), ' stopwords defined.')"
      ],
      "execution_count": 16,
      "outputs": [
        {
          "output_type": "stream",
          "text": [
            "There are  179  stopwords defined.\n"
          ],
          "name": "stdout"
        }
      ]
    },
    {
      "cell_type": "markdown",
      "metadata": {
        "id": "-nk6CUQdD-_o",
        "colab_type": "text"
      },
      "source": [
        "First lower case all letters, because stopwords.words returns a list of lowercase stop words. Next calculate stopwords."
      ]
    },
    {
      "cell_type": "code",
      "metadata": {
        "id": "lyECbp3vseql",
        "colab_type": "code",
        "outputId": "d86046a5-7f0d-441f-a974-2b57cb16f2be",
        "colab": {
          "base_uri": "https://localhost:8080/",
          "height": 204
        }
      },
      "source": [
        "data['StopWordsCount'] = data['SentimentText'].apply(lambda x: len([x for x in x.split() if x.lower() in stop]))\n",
        "data[['SentimentText','StopWordsCount','Sentiment']].head()"
      ],
      "execution_count": 17,
      "outputs": [
        {
          "output_type": "execute_result",
          "data": {
            "text/html": [
              "<div>\n",
              "<style scoped>\n",
              "    .dataframe tbody tr th:only-of-type {\n",
              "        vertical-align: middle;\n",
              "    }\n",
              "\n",
              "    .dataframe tbody tr th {\n",
              "        vertical-align: top;\n",
              "    }\n",
              "\n",
              "    .dataframe thead th {\n",
              "        text-align: right;\n",
              "    }\n",
              "</style>\n",
              "<table border=\"1\" class=\"dataframe\">\n",
              "  <thead>\n",
              "    <tr style=\"text-align: right;\">\n",
              "      <th></th>\n",
              "      <th>SentimentText</th>\n",
              "      <th>StopWordsCount</th>\n",
              "      <th>Sentiment</th>\n",
              "    </tr>\n",
              "  </thead>\n",
              "  <tbody>\n",
              "    <tr>\n",
              "      <th>0</th>\n",
              "      <td>first think another Disney movie, might good, ...</td>\n",
              "      <td>1</td>\n",
              "      <td>1</td>\n",
              "    </tr>\n",
              "    <tr>\n",
              "      <th>1</th>\n",
              "      <td>Put aside Dr. House repeat missed, Desperate H...</td>\n",
              "      <td>3</td>\n",
              "      <td>0</td>\n",
              "    </tr>\n",
              "    <tr>\n",
              "      <th>2</th>\n",
              "      <td>big fan Stephen King's work, film made even gr...</td>\n",
              "      <td>3</td>\n",
              "      <td>1</td>\n",
              "    </tr>\n",
              "    <tr>\n",
              "      <th>3</th>\n",
              "      <td>watched horrid thing TV. Needless say one movi...</td>\n",
              "      <td>1</td>\n",
              "      <td>0</td>\n",
              "    </tr>\n",
              "    <tr>\n",
              "      <th>4</th>\n",
              "      <td>truly enjoyed film. acting terrific plot. Jeff...</td>\n",
              "      <td>2</td>\n",
              "      <td>1</td>\n",
              "    </tr>\n",
              "  </tbody>\n",
              "</table>\n",
              "</div>"
            ],
            "text/plain": [
              "                                       SentimentText  StopWordsCount  Sentiment\n",
              "0  first think another Disney movie, might good, ...               1          1\n",
              "1  Put aside Dr. House repeat missed, Desperate H...               3          0\n",
              "2  big fan Stephen King's work, film made even gr...               3          1\n",
              "3  watched horrid thing TV. Needless say one movi...               1          0\n",
              "4  truly enjoyed film. acting terrific plot. Jeff...               2          1"
            ]
          },
          "metadata": {
            "tags": []
          },
          "execution_count": 17
        }
      ]
    },
    {
      "cell_type": "markdown",
      "metadata": {
        "id": "GNBRRXVcseqo",
        "colab_type": "text"
      },
      "source": [
        "## 2.5 Number of numerics"
      ]
    },
    {
      "cell_type": "code",
      "metadata": {
        "id": "SpAiPGCFseqp",
        "colab_type": "code",
        "outputId": "9f2ee058-6450-4b8b-d6bf-ede8a2bf7eb6",
        "colab": {
          "base_uri": "https://localhost:8080/",
          "height": 204
        }
      },
      "source": [
        "data['NumericsCount'] = data['SentimentText'].apply(lambda x: len([x for x in x.split() if x.isdigit()]))\n",
        "data[['SentimentText','NumericsCount','Sentiment']].head()"
      ],
      "execution_count": 18,
      "outputs": [
        {
          "output_type": "execute_result",
          "data": {
            "text/html": [
              "<div>\n",
              "<style scoped>\n",
              "    .dataframe tbody tr th:only-of-type {\n",
              "        vertical-align: middle;\n",
              "    }\n",
              "\n",
              "    .dataframe tbody tr th {\n",
              "        vertical-align: top;\n",
              "    }\n",
              "\n",
              "    .dataframe thead th {\n",
              "        text-align: right;\n",
              "    }\n",
              "</style>\n",
              "<table border=\"1\" class=\"dataframe\">\n",
              "  <thead>\n",
              "    <tr style=\"text-align: right;\">\n",
              "      <th></th>\n",
              "      <th>SentimentText</th>\n",
              "      <th>NumericsCount</th>\n",
              "      <th>Sentiment</th>\n",
              "    </tr>\n",
              "  </thead>\n",
              "  <tbody>\n",
              "    <tr>\n",
              "      <th>0</th>\n",
              "      <td>first think another Disney movie, might good, ...</td>\n",
              "      <td>2</td>\n",
              "      <td>1</td>\n",
              "    </tr>\n",
              "    <tr>\n",
              "      <th>1</th>\n",
              "      <td>Put aside Dr. House repeat missed, Desperate H...</td>\n",
              "      <td>4</td>\n",
              "      <td>0</td>\n",
              "    </tr>\n",
              "    <tr>\n",
              "      <th>2</th>\n",
              "      <td>big fan Stephen King's work, film made even gr...</td>\n",
              "      <td>1</td>\n",
              "      <td>1</td>\n",
              "    </tr>\n",
              "    <tr>\n",
              "      <th>3</th>\n",
              "      <td>watched horrid thing TV. Needless say one movi...</td>\n",
              "      <td>0</td>\n",
              "      <td>0</td>\n",
              "    </tr>\n",
              "    <tr>\n",
              "      <th>4</th>\n",
              "      <td>truly enjoyed film. acting terrific plot. Jeff...</td>\n",
              "      <td>0</td>\n",
              "      <td>1</td>\n",
              "    </tr>\n",
              "  </tbody>\n",
              "</table>\n",
              "</div>"
            ],
            "text/plain": [
              "                                       SentimentText  NumericsCount  Sentiment\n",
              "0  first think another Disney movie, might good, ...              2          1\n",
              "1  Put aside Dr. House repeat missed, Desperate H...              4          0\n",
              "2  big fan Stephen King's work, film made even gr...              1          1\n",
              "3  watched horrid thing TV. Needless say one movi...              0          0\n",
              "4  truly enjoyed film. acting terrific plot. Jeff...              0          1"
            ]
          },
          "metadata": {
            "tags": []
          },
          "execution_count": 18
        }
      ]
    },
    {
      "cell_type": "markdown",
      "metadata": {
        "id": "XmBPf7d2sequ",
        "colab_type": "text"
      },
      "source": [
        "## 2.6 Number of uppercase words\n",
        "Anger or rage could be expressed by writing in UPPERCASE."
      ]
    },
    {
      "cell_type": "code",
      "metadata": {
        "id": "8K9Z_0nzseqv",
        "colab_type": "code",
        "outputId": "b8f16664-cd57-48a9-927f-2aefe9df4057",
        "colab": {
          "base_uri": "https://localhost:8080/",
          "height": 204
        }
      },
      "source": [
        "data['UppercaseCount'] = data['SentimentText'].apply(lambda x: len([x for x in x.split() if x.isupper()]))\n",
        "data[['SentimentText','UppercaseCount','Sentiment']].head()"
      ],
      "execution_count": 19,
      "outputs": [
        {
          "output_type": "execute_result",
          "data": {
            "text/html": [
              "<div>\n",
              "<style scoped>\n",
              "    .dataframe tbody tr th:only-of-type {\n",
              "        vertical-align: middle;\n",
              "    }\n",
              "\n",
              "    .dataframe tbody tr th {\n",
              "        vertical-align: top;\n",
              "    }\n",
              "\n",
              "    .dataframe thead th {\n",
              "        text-align: right;\n",
              "    }\n",
              "</style>\n",
              "<table border=\"1\" class=\"dataframe\">\n",
              "  <thead>\n",
              "    <tr style=\"text-align: right;\">\n",
              "      <th></th>\n",
              "      <th>SentimentText</th>\n",
              "      <th>UppercaseCount</th>\n",
              "      <th>Sentiment</th>\n",
              "    </tr>\n",
              "  </thead>\n",
              "  <tbody>\n",
              "    <tr>\n",
              "      <th>0</th>\n",
              "      <td>first think another Disney movie, might good, ...</td>\n",
              "      <td>0</td>\n",
              "      <td>1</td>\n",
              "    </tr>\n",
              "    <tr>\n",
              "      <th>1</th>\n",
              "      <td>Put aside Dr. House repeat missed, Desperate H...</td>\n",
              "      <td>1</td>\n",
              "      <td>0</td>\n",
              "    </tr>\n",
              "    <tr>\n",
              "      <th>2</th>\n",
              "      <td>big fan Stephen King's work, film made even gr...</td>\n",
              "      <td>0</td>\n",
              "      <td>1</td>\n",
              "    </tr>\n",
              "    <tr>\n",
              "      <th>3</th>\n",
              "      <td>watched horrid thing TV. Needless say one movi...</td>\n",
              "      <td>2</td>\n",
              "      <td>0</td>\n",
              "    </tr>\n",
              "    <tr>\n",
              "      <th>4</th>\n",
              "      <td>truly enjoyed film. acting terrific plot. Jeff...</td>\n",
              "      <td>0</td>\n",
              "      <td>1</td>\n",
              "    </tr>\n",
              "  </tbody>\n",
              "</table>\n",
              "</div>"
            ],
            "text/plain": [
              "                                       SentimentText  UppercaseCount  Sentiment\n",
              "0  first think another Disney movie, might good, ...               0          1\n",
              "1  Put aside Dr. House repeat missed, Desperate H...               1          0\n",
              "2  big fan Stephen King's work, film made even gr...               0          1\n",
              "3  watched horrid thing TV. Needless say one movi...               2          0\n",
              "4  truly enjoyed film. acting terrific plot. Jeff...               0          1"
            ]
          },
          "metadata": {
            "tags": []
          },
          "execution_count": 19
        }
      ]
    },
    {
      "cell_type": "markdown",
      "metadata": {
        "id": "M69qh03EqWtq",
        "colab_type": "text"
      },
      "source": [
        "## 2.7 Show all the properties"
      ]
    },
    {
      "cell_type": "code",
      "metadata": {
        "id": "4GAb0si-qfE4",
        "colab_type": "code",
        "colab": {
          "base_uri": "https://localhost:8080/",
          "height": 204
        },
        "outputId": "922437f4-da8c-413c-9ecd-1aaa44ea16af"
      },
      "source": [
        "data.head(5)"
      ],
      "execution_count": 20,
      "outputs": [
        {
          "output_type": "execute_result",
          "data": {
            "text/html": [
              "<div>\n",
              "<style scoped>\n",
              "    .dataframe tbody tr th:only-of-type {\n",
              "        vertical-align: middle;\n",
              "    }\n",
              "\n",
              "    .dataframe tbody tr th {\n",
              "        vertical-align: top;\n",
              "    }\n",
              "\n",
              "    .dataframe thead th {\n",
              "        text-align: right;\n",
              "    }\n",
              "</style>\n",
              "<table border=\"1\" class=\"dataframe\">\n",
              "  <thead>\n",
              "    <tr style=\"text-align: right;\">\n",
              "      <th></th>\n",
              "      <th>SentimentText</th>\n",
              "      <th>Sentiment</th>\n",
              "      <th>WordCount</th>\n",
              "      <th>CharCount</th>\n",
              "      <th>AvgWordLength</th>\n",
              "      <th>StopWordsCount</th>\n",
              "      <th>NumericsCount</th>\n",
              "      <th>UppercaseCount</th>\n",
              "    </tr>\n",
              "  </thead>\n",
              "  <tbody>\n",
              "    <tr>\n",
              "      <th>0</th>\n",
              "      <td>first think another Disney movie, might good, ...</td>\n",
              "      <td>1</td>\n",
              "      <td>52</td>\n",
              "      <td>263</td>\n",
              "      <td>5.057692</td>\n",
              "      <td>1</td>\n",
              "      <td>2</td>\n",
              "      <td>0</td>\n",
              "    </tr>\n",
              "    <tr>\n",
              "      <th>1</th>\n",
              "      <td>Put aside Dr. House repeat missed, Desperate H...</td>\n",
              "      <td>0</td>\n",
              "      <td>86</td>\n",
              "      <td>480</td>\n",
              "      <td>5.581395</td>\n",
              "      <td>3</td>\n",
              "      <td>4</td>\n",
              "      <td>1</td>\n",
              "    </tr>\n",
              "    <tr>\n",
              "      <th>2</th>\n",
              "      <td>big fan Stephen King's work, film made even gr...</td>\n",
              "      <td>1</td>\n",
              "      <td>193</td>\n",
              "      <td>1076</td>\n",
              "      <td>5.575130</td>\n",
              "      <td>3</td>\n",
              "      <td>1</td>\n",
              "      <td>0</td>\n",
              "    </tr>\n",
              "    <tr>\n",
              "      <th>3</th>\n",
              "      <td>watched horrid thing TV. Needless say one movi...</td>\n",
              "      <td>0</td>\n",
              "      <td>63</td>\n",
              "      <td>352</td>\n",
              "      <td>5.587302</td>\n",
              "      <td>1</td>\n",
              "      <td>0</td>\n",
              "      <td>2</td>\n",
              "    </tr>\n",
              "    <tr>\n",
              "      <th>4</th>\n",
              "      <td>truly enjoyed film. acting terrific plot. Jeff...</td>\n",
              "      <td>1</td>\n",
              "      <td>65</td>\n",
              "      <td>413</td>\n",
              "      <td>6.353846</td>\n",
              "      <td>2</td>\n",
              "      <td>0</td>\n",
              "      <td>0</td>\n",
              "    </tr>\n",
              "  </tbody>\n",
              "</table>\n",
              "</div>"
            ],
            "text/plain": [
              "                                       SentimentText  ...  UppercaseCount\n",
              "0  first think another Disney movie, might good, ...  ...               0\n",
              "1  Put aside Dr. House repeat missed, Desperate H...  ...               1\n",
              "2  big fan Stephen King's work, film made even gr...  ...               0\n",
              "3  watched horrid thing TV. Needless say one movi...  ...               2\n",
              "4  truly enjoyed film. acting terrific plot. Jeff...  ...               0\n",
              "\n",
              "[5 rows x 8 columns]"
            ]
          },
          "metadata": {
            "tags": []
          },
          "execution_count": 20
        }
      ]
    },
    {
      "cell_type": "markdown",
      "metadata": {
        "id": "WB4dqrjrseqz",
        "colab_type": "text"
      },
      "source": [
        "# 3. Preprocessing"
      ]
    },
    {
      "cell_type": "markdown",
      "metadata": {
        "id": "M78x50p0o3ee",
        "colab_type": "text"
      },
      "source": [
        "After processing everz output goes into 'SentimentTextNew' column."
      ]
    },
    {
      "cell_type": "markdown",
      "metadata": {
        "id": "62gDQsJuseq0",
        "colab_type": "text"
      },
      "source": [
        "## 3.1 Lower case"
      ]
    },
    {
      "cell_type": "code",
      "metadata": {
        "id": "oQpi2d_1seq1",
        "colab_type": "code",
        "outputId": "703a08d8-659e-4f6a-d013-31ba0753ce7c",
        "colab": {
          "base_uri": "https://localhost:8080/",
          "height": 204
        }
      },
      "source": [
        "data['SentimentTextNew'] = data['SentimentText'].apply(lambda x: \" \".join(x.lower() for x in x.split()))\n",
        "data[['SentimentTextNew']].head()"
      ],
      "execution_count": 21,
      "outputs": [
        {
          "output_type": "execute_result",
          "data": {
            "text/html": [
              "<div>\n",
              "<style scoped>\n",
              "    .dataframe tbody tr th:only-of-type {\n",
              "        vertical-align: middle;\n",
              "    }\n",
              "\n",
              "    .dataframe tbody tr th {\n",
              "        vertical-align: top;\n",
              "    }\n",
              "\n",
              "    .dataframe thead th {\n",
              "        text-align: right;\n",
              "    }\n",
              "</style>\n",
              "<table border=\"1\" class=\"dataframe\">\n",
              "  <thead>\n",
              "    <tr style=\"text-align: right;\">\n",
              "      <th></th>\n",
              "      <th>SentimentTextNew</th>\n",
              "    </tr>\n",
              "  </thead>\n",
              "  <tbody>\n",
              "    <tr>\n",
              "      <th>0</th>\n",
              "      <td>first think another disney movie, might good, ...</td>\n",
              "    </tr>\n",
              "    <tr>\n",
              "      <th>1</th>\n",
              "      <td>put aside dr. house repeat missed, desperate h...</td>\n",
              "    </tr>\n",
              "    <tr>\n",
              "      <th>2</th>\n",
              "      <td>big fan stephen king's work, film made even gr...</td>\n",
              "    </tr>\n",
              "    <tr>\n",
              "      <th>3</th>\n",
              "      <td>watched horrid thing tv. needless say one movi...</td>\n",
              "    </tr>\n",
              "    <tr>\n",
              "      <th>4</th>\n",
              "      <td>truly enjoyed film. acting terrific plot. jeff...</td>\n",
              "    </tr>\n",
              "  </tbody>\n",
              "</table>\n",
              "</div>"
            ],
            "text/plain": [
              "                                    SentimentTextNew\n",
              "0  first think another disney movie, might good, ...\n",
              "1  put aside dr. house repeat missed, desperate h...\n",
              "2  big fan stephen king's work, film made even gr...\n",
              "3  watched horrid thing tv. needless say one movi...\n",
              "4  truly enjoyed film. acting terrific plot. jeff..."
            ]
          },
          "metadata": {
            "tags": []
          },
          "execution_count": 21
        }
      ]
    },
    {
      "cell_type": "markdown",
      "metadata": {
        "id": "ZB5eWtMiseq5",
        "colab_type": "text"
      },
      "source": [
        "## 3.2 Remove URLs"
      ]
    },
    {
      "cell_type": "code",
      "metadata": {
        "id": "GUMIB_9Hseq6",
        "colab_type": "code",
        "outputId": "1a8671c1-482c-4cee-d612-b23324bcdd80",
        "colab": {
          "base_uri": "https://localhost:8080/",
          "height": 204
        }
      },
      "source": [
        "data['SentimentTextNew'] = data['SentimentTextNew'].apply(lambda x: re.sub(r'(?:\\@|https?\\://)\\S+', '', x))\n",
        "data[['SentimentTextNew']].head()"
      ],
      "execution_count": 22,
      "outputs": [
        {
          "output_type": "execute_result",
          "data": {
            "text/html": [
              "<div>\n",
              "<style scoped>\n",
              "    .dataframe tbody tr th:only-of-type {\n",
              "        vertical-align: middle;\n",
              "    }\n",
              "\n",
              "    .dataframe tbody tr th {\n",
              "        vertical-align: top;\n",
              "    }\n",
              "\n",
              "    .dataframe thead th {\n",
              "        text-align: right;\n",
              "    }\n",
              "</style>\n",
              "<table border=\"1\" class=\"dataframe\">\n",
              "  <thead>\n",
              "    <tr style=\"text-align: right;\">\n",
              "      <th></th>\n",
              "      <th>SentimentTextNew</th>\n",
              "    </tr>\n",
              "  </thead>\n",
              "  <tbody>\n",
              "    <tr>\n",
              "      <th>0</th>\n",
              "      <td>first think another disney movie, might good, ...</td>\n",
              "    </tr>\n",
              "    <tr>\n",
              "      <th>1</th>\n",
              "      <td>put aside dr. house repeat missed, desperate h...</td>\n",
              "    </tr>\n",
              "    <tr>\n",
              "      <th>2</th>\n",
              "      <td>big fan stephen king's work, film made even gr...</td>\n",
              "    </tr>\n",
              "    <tr>\n",
              "      <th>3</th>\n",
              "      <td>watched horrid thing tv. needless say one movi...</td>\n",
              "    </tr>\n",
              "    <tr>\n",
              "      <th>4</th>\n",
              "      <td>truly enjoyed film. acting terrific plot. jeff...</td>\n",
              "    </tr>\n",
              "  </tbody>\n",
              "</table>\n",
              "</div>"
            ],
            "text/plain": [
              "                                    SentimentTextNew\n",
              "0  first think another disney movie, might good, ...\n",
              "1  put aside dr. house repeat missed, desperate h...\n",
              "2  big fan stephen king's work, film made even gr...\n",
              "3  watched horrid thing tv. needless say one movi...\n",
              "4  truly enjoyed film. acting terrific plot. jeff..."
            ]
          },
          "metadata": {
            "tags": []
          },
          "execution_count": 22
        }
      ]
    },
    {
      "cell_type": "markdown",
      "metadata": {
        "id": "oAD0oxEKseq-",
        "colab_type": "text"
      },
      "source": [
        "## 3.3 Remove html tags"
      ]
    },
    {
      "cell_type": "code",
      "metadata": {
        "id": "hdoR6iClseq_",
        "colab_type": "code",
        "outputId": "bfe471d5-7dc9-4066-ba2e-d254a66f8363",
        "colab": {
          "base_uri": "https://localhost:8080/",
          "height": 204
        }
      },
      "source": [
        "data['SentimentTextNew'] = data['SentimentTextNew'].apply(lambda x: re.sub(r'<[^>]+>', '', x))\n",
        "data[['SentimentTextNew']].head()"
      ],
      "execution_count": 23,
      "outputs": [
        {
          "output_type": "execute_result",
          "data": {
            "text/html": [
              "<div>\n",
              "<style scoped>\n",
              "    .dataframe tbody tr th:only-of-type {\n",
              "        vertical-align: middle;\n",
              "    }\n",
              "\n",
              "    .dataframe tbody tr th {\n",
              "        vertical-align: top;\n",
              "    }\n",
              "\n",
              "    .dataframe thead th {\n",
              "        text-align: right;\n",
              "    }\n",
              "</style>\n",
              "<table border=\"1\" class=\"dataframe\">\n",
              "  <thead>\n",
              "    <tr style=\"text-align: right;\">\n",
              "      <th></th>\n",
              "      <th>SentimentTextNew</th>\n",
              "    </tr>\n",
              "  </thead>\n",
              "  <tbody>\n",
              "    <tr>\n",
              "      <th>0</th>\n",
              "      <td>first think another disney movie, might good, ...</td>\n",
              "    </tr>\n",
              "    <tr>\n",
              "      <th>1</th>\n",
              "      <td>put aside dr. house repeat missed, desperate h...</td>\n",
              "    </tr>\n",
              "    <tr>\n",
              "      <th>2</th>\n",
              "      <td>big fan stephen king's work, film made even gr...</td>\n",
              "    </tr>\n",
              "    <tr>\n",
              "      <th>3</th>\n",
              "      <td>watched horrid thing tv. needless say one movi...</td>\n",
              "    </tr>\n",
              "    <tr>\n",
              "      <th>4</th>\n",
              "      <td>truly enjoyed film. acting terrific plot. jeff...</td>\n",
              "    </tr>\n",
              "  </tbody>\n",
              "</table>\n",
              "</div>"
            ],
            "text/plain": [
              "                                    SentimentTextNew\n",
              "0  first think another disney movie, might good, ...\n",
              "1  put aside dr. house repeat missed, desperate h...\n",
              "2  big fan stephen king's work, film made even gr...\n",
              "3  watched horrid thing tv. needless say one movi...\n",
              "4  truly enjoyed film. acting terrific plot. jeff..."
            ]
          },
          "metadata": {
            "tags": []
          },
          "execution_count": 23
        }
      ]
    },
    {
      "cell_type": "markdown",
      "metadata": {
        "id": "gVdC3ZYZserC",
        "colab_type": "text"
      },
      "source": [
        "## 3.4 Remove non-letters and non-digits characters"
      ]
    },
    {
      "cell_type": "code",
      "metadata": {
        "id": "PWN89az0serD",
        "colab_type": "code",
        "outputId": "473011cf-6bf8-43f4-f819-b003f691fdd2",
        "colab": {
          "base_uri": "https://localhost:8080/",
          "height": 204
        }
      },
      "source": [
        "data['SentimentTextNew'] = data['SentimentTextNew'].str.replace('[^\\w\\s]','')\n",
        "data[['SentimentTextNew']].head()"
      ],
      "execution_count": 24,
      "outputs": [
        {
          "output_type": "execute_result",
          "data": {
            "text/html": [
              "<div>\n",
              "<style scoped>\n",
              "    .dataframe tbody tr th:only-of-type {\n",
              "        vertical-align: middle;\n",
              "    }\n",
              "\n",
              "    .dataframe tbody tr th {\n",
              "        vertical-align: top;\n",
              "    }\n",
              "\n",
              "    .dataframe thead th {\n",
              "        text-align: right;\n",
              "    }\n",
              "</style>\n",
              "<table border=\"1\" class=\"dataframe\">\n",
              "  <thead>\n",
              "    <tr style=\"text-align: right;\">\n",
              "      <th></th>\n",
              "      <th>SentimentTextNew</th>\n",
              "    </tr>\n",
              "  </thead>\n",
              "  <tbody>\n",
              "    <tr>\n",
              "      <th>0</th>\n",
              "      <td>first think another disney movie might good it...</td>\n",
              "    </tr>\n",
              "    <tr>\n",
              "      <th>1</th>\n",
              "      <td>put aside dr house repeat missed desperate hou...</td>\n",
              "    </tr>\n",
              "    <tr>\n",
              "      <th>2</th>\n",
              "      <td>big fan stephen kings work film made even grea...</td>\n",
              "    </tr>\n",
              "    <tr>\n",
              "      <th>3</th>\n",
              "      <td>watched horrid thing tv needless say one movie...</td>\n",
              "    </tr>\n",
              "    <tr>\n",
              "      <th>4</th>\n",
              "      <td>truly enjoyed film acting terrific plot jeff c...</td>\n",
              "    </tr>\n",
              "  </tbody>\n",
              "</table>\n",
              "</div>"
            ],
            "text/plain": [
              "                                    SentimentTextNew\n",
              "0  first think another disney movie might good it...\n",
              "1  put aside dr house repeat missed desperate hou...\n",
              "2  big fan stephen kings work film made even grea...\n",
              "3  watched horrid thing tv needless say one movie...\n",
              "4  truly enjoyed film acting terrific plot jeff c..."
            ]
          },
          "metadata": {
            "tags": []
          },
          "execution_count": 24
        }
      ]
    },
    {
      "cell_type": "markdown",
      "metadata": {
        "id": "WVJIDct7serH",
        "colab_type": "text"
      },
      "source": [
        "## 3.5 Remove stop words"
      ]
    },
    {
      "cell_type": "code",
      "metadata": {
        "id": "zwtJ5CM6serI",
        "colab_type": "code",
        "outputId": "01529ac2-ce89-4bd1-d2f5-edee9913c072",
        "colab": {
          "base_uri": "https://localhost:8080/",
          "height": 204
        }
      },
      "source": [
        "data['SentimentTextNew'] = data['SentimentTextNew'].apply(lambda x: \" \".join(x for x in x.split() if x not in stop))\n",
        "data[['SentimentTextNew']].head()"
      ],
      "execution_count": 25,
      "outputs": [
        {
          "output_type": "execute_result",
          "data": {
            "text/html": [
              "<div>\n",
              "<style scoped>\n",
              "    .dataframe tbody tr th:only-of-type {\n",
              "        vertical-align: middle;\n",
              "    }\n",
              "\n",
              "    .dataframe tbody tr th {\n",
              "        vertical-align: top;\n",
              "    }\n",
              "\n",
              "    .dataframe thead th {\n",
              "        text-align: right;\n",
              "    }\n",
              "</style>\n",
              "<table border=\"1\" class=\"dataframe\">\n",
              "  <thead>\n",
              "    <tr style=\"text-align: right;\">\n",
              "      <th></th>\n",
              "      <th>SentimentTextNew</th>\n",
              "    </tr>\n",
              "  </thead>\n",
              "  <tbody>\n",
              "    <tr>\n",
              "      <th>0</th>\n",
              "      <td>first think another disney movie might good ki...</td>\n",
              "    </tr>\n",
              "    <tr>\n",
              "      <th>1</th>\n",
              "      <td>put aside dr house repeat missed desperate hou...</td>\n",
              "    </tr>\n",
              "    <tr>\n",
              "      <th>2</th>\n",
              "      <td>big fan stephen kings work film made even grea...</td>\n",
              "    </tr>\n",
              "    <tr>\n",
              "      <th>3</th>\n",
              "      <td>watched horrid thing tv needless say one movie...</td>\n",
              "    </tr>\n",
              "    <tr>\n",
              "      <th>4</th>\n",
              "      <td>truly enjoyed film acting terrific plot jeff c...</td>\n",
              "    </tr>\n",
              "  </tbody>\n",
              "</table>\n",
              "</div>"
            ],
            "text/plain": [
              "                                    SentimentTextNew\n",
              "0  first think another disney movie might good ki...\n",
              "1  put aside dr house repeat missed desperate hou...\n",
              "2  big fan stephen kings work film made even grea...\n",
              "3  watched horrid thing tv needless say one movie...\n",
              "4  truly enjoyed film acting terrific plot jeff c..."
            ]
          },
          "metadata": {
            "tags": []
          },
          "execution_count": 25
        }
      ]
    },
    {
      "cell_type": "markdown",
      "metadata": {
        "id": "I2NCwd7user1",
        "colab_type": "text"
      },
      "source": [
        "## 3.6 Lemmatization using spaCy\n",
        "Convert the word into its root word."
      ]
    },
    {
      "cell_type": "markdown",
      "metadata": {
        "id": "PaJ3I-LCrY-R",
        "colab_type": "text"
      },
      "source": [
        "Warning: Time consuming operation!"
      ]
    },
    {
      "cell_type": "code",
      "metadata": {
        "id": "Pyvv_shxser2",
        "colab_type": "code",
        "outputId": "a30b62f5-5c27-42fd-83d9-fdb66ddb28d7",
        "colab": {
          "base_uri": "https://localhost:8080/",
          "height": 119
        }
      },
      "source": [
        "before = data.loc[4, 'SentimentTextNew']\n",
        "data['SentimentTextNew'] = data['SentimentTextNew'].apply(lambda x: \" \".join(word.lemma_ for word in sp(x)))\n",
        "data['SentimentTextNew'].head()"
      ],
      "execution_count": 26,
      "outputs": [
        {
          "output_type": "execute_result",
          "data": {
            "text/plain": [
              "0    first think another disney movie may good kid ...\n",
              "1    put aside dr house repeat miss desperate house...\n",
              "2    big fan stephen king work film make even great...\n",
              "3    watch horrid thing tv needless say one movie w...\n",
              "4    truly enjoy film act terrific plot jeff comb t...\n",
              "Name: SentimentTextNew, dtype: object"
            ]
          },
          "metadata": {
            "tags": []
          },
          "execution_count": 26
        }
      ]
    },
    {
      "cell_type": "markdown",
      "metadata": {
        "id": "10c3Sssx4WTN",
        "colab_type": "text"
      },
      "source": [
        "Get sample text and compare results."
      ]
    },
    {
      "cell_type": "code",
      "metadata": {
        "id": "5AH-jEvNser6",
        "colab_type": "code",
        "outputId": "0ad7d2d3-cf7c-49b3-d0c2-4e5977bb6da9",
        "colab": {
          "base_uri": "https://localhost:8080/",
          "height": 71
        }
      },
      "source": [
        "print('Before: ', before)\n",
        "print('After: ', data.loc[4, 'SentimentTextNew'])"
      ],
      "execution_count": 27,
      "outputs": [
        {
          "output_type": "stream",
          "text": [
            "Before:  truly enjoyed film acting terrific plot jeff combs talent recognized part flick would change ending death creature far gruesome sci fi channelthere interesting religious messages film jeff combs obviously played messiah figure creature shark prefer represented antichirst particularly frightening scenes end world feel noticed third viewing classic creature feature know many people wont get references christianity watch close youll get\n",
            "After:  truly enjoy film act terrific plot jeff comb talent recognize part flick would change end death creature far gruesome sci fi channelthere interesting religious message film jeff comb obviously play messiah figure creature shark prefer represent antichirst particularly frightening scene end world feel notice third view classic creature feature know many people will not get reference christianity watch close -PRON- will get\n"
          ],
          "name": "stdout"
        }
      ]
    },
    {
      "cell_type": "markdown",
      "metadata": {
        "id": "WkQ2su_YCK8f",
        "colab_type": "text"
      },
      "source": [
        "Moyna dodac\n",
        "- Parts-of-speech - assign a category tag to the tokenized parts of a sentence e.g. identifying words as nouns, verbs, adjectives\n",
        "- Bag of Words - the number of occurrences of words within the text\n",
        "- n-grams"
      ]
    },
    {
      "cell_type": "markdown",
      "metadata": {
        "id": "6nVnjgd-serL",
        "colab_type": "text"
      },
      "source": [
        "## 3.7 Common words"
      ]
    },
    {
      "cell_type": "markdown",
      "metadata": {
        "id": "7LhTdv-cserM",
        "colab_type": "text"
      },
      "source": [
        "### 3.7.1 Count common words occurrence frequency\n",
        "\n"
      ]
    },
    {
      "cell_type": "code",
      "metadata": {
        "id": "qKQNgvbJserN",
        "colab_type": "code",
        "colab": {}
      },
      "source": [
        "freq_common = pd.Series(' '.join(data['SentimentTextNew']).split()).value_counts()"
      ],
      "execution_count": 0,
      "outputs": []
    },
    {
      "cell_type": "code",
      "metadata": {
        "id": "bh3e5AqDB8dA",
        "colab_type": "code",
        "outputId": "46c91941-f35c-4aaa-ebbe-0867b8f4fd52",
        "colab": {
          "base_uri": "https://localhost:8080/",
          "height": 676
        }
      },
      "source": [
        "plt.figure(figsize=(15,10))\n",
        "freq_common[:60].plot.bar()\n",
        "plt.xlabel('Words')\n",
        "plt.ylabel('Occurrence frequency')\n",
        "plt.title('Common words')"
      ],
      "execution_count": 115,
      "outputs": [
        {
          "output_type": "execute_result",
          "data": {
            "text/plain": [
              "Text(0.5, 1.0, 'Common words')"
            ]
          },
          "metadata": {
            "tags": []
          },
          "execution_count": 115
        },
        {
          "output_type": "display_data",
          "data": {
            "image/png": "[encoded data removed]",
            "text/plain": [
              "<Figure size 1080x720 with 1 Axes>"
            ]
          },
          "metadata": {
            "tags": [],
            "image/png": {
              "width": 1005,
              "height": 642
            }
          }
        }
      ]
    },
    {
      "cell_type": "markdown",
      "metadata": {
        "id": "QQDehEKzserR",
        "colab_type": "text"
      },
      "source": [
        "### 3.7.2 Remove common words\n",
        "Remove the first 10 words."
      ]
    },
    {
      "cell_type": "code",
      "metadata": {
        "id": "V-sPsFAiserS",
        "colab_type": "code",
        "colab": {}
      },
      "source": [
        "freq_common_10 = list(freq_common[:10].index)\n",
        "data['SentimentTextNew'] = data['SentimentTextNew'].apply(lambda x: \" \".join(x for x in x.split() if x not in freq_common_10))\n",
        "data['SentimentTextNew'].head()"
      ],
      "execution_count": 0,
      "outputs": []
    },
    {
      "cell_type": "markdown",
      "metadata": {
        "id": "UmYkHHS9EKiq",
        "colab_type": "text"
      },
      "source": [
        "Check the results."
      ]
    },
    {
      "cell_type": "code",
      "metadata": {
        "id": "5HSfyafNEMAr",
        "colab_type": "code",
        "colab": {}
      },
      "source": [
        "freq_common_new = pd.Series(' '.join(data['SentimentTextNew']).split()).value_counts()\n",
        "plt.figure(figsize=(15,10))\n",
        "freq_common_new[:60].plot.bar()\n",
        "plt.xlabel('Words')\n",
        "plt.ylabel('Occurrence frequency')\n",
        "plt.title('Common words after removing')"
      ],
      "execution_count": 0,
      "outputs": []
    },
    {
      "cell_type": "markdown",
      "metadata": {
        "id": "AhwUpc-users",
        "colab_type": "text"
      },
      "source": [
        "## 3.8 Rare words"
      ]
    },
    {
      "cell_type": "markdown",
      "metadata": {
        "id": "OkmGNLty_R_r",
        "colab_type": "text"
      },
      "source": [
        "### 3.8.1 Count rare words occurrence frequency"
      ]
    },
    {
      "cell_type": "code",
      "metadata": {
        "id": "LFmUzBbCsers",
        "colab_type": "code",
        "colab": {}
      },
      "source": [
        "freq_rare = pd.Series(' '.join(data['SentimentTextNew']).split()).value_counts()\n",
        "freq_rare"
      ],
      "execution_count": 0,
      "outputs": []
    },
    {
      "cell_type": "markdown",
      "metadata": {
        "id": "kagO7tgb-4Cf",
        "colab_type": "text"
      },
      "source": [
        "Get the words with only one occurence."
      ]
    },
    {
      "cell_type": "code",
      "metadata": {
        "id": "DIHfuWkx-6ux",
        "colab_type": "code",
        "colab": {}
      },
      "source": [
        "one_occurence = freq_rare[freq_rare==1]\n",
        "one_occurence"
      ],
      "execution_count": 0,
      "outputs": []
    },
    {
      "cell_type": "code",
      "metadata": {
        "id": "0cDSp0wE_Kmo",
        "colab_type": "code",
        "colab": {}
      },
      "source": [
        "len(one_occurence)"
      ],
      "execution_count": 0,
      "outputs": []
    },
    {
      "cell_type": "markdown",
      "metadata": {
        "id": "WiSDKDFhserW",
        "colab_type": "text"
      },
      "source": [
        "## 3.9 Word cloud"
      ]
    },
    {
      "cell_type": "markdown",
      "metadata": {
        "id": "HhFDgYfwserX",
        "colab_type": "text"
      },
      "source": [
        "### 3.9.1 Word cloud of negative terms"
      ]
    },
    {
      "cell_type": "code",
      "metadata": {
        "id": "r72WpaNiserY",
        "colab_type": "code",
        "colab": {}
      },
      "source": [
        "neg_tweets = data[data.Sentiment == 0]\n",
        "neg_string = []\n",
        "\n",
        "for t in neg_tweets.SentimentTextNew:\n",
        "    neg_string.append(t)\n",
        "\n",
        "neg_string = pd.Series(neg_string).str.cat(sep=' ')\n",
        "wordcloud = WordCloud(\n",
        "    width=1600,\n",
        "    height=800,\n",
        "    max_font_size=200,\n",
        "    colormap='inferno',\n",
        "    background_color='white').generate(neg_string)\n",
        "\n",
        "plt.figure(figsize=(12,10))\n",
        "plt.imshow(wordcloud, interpolation=\"bilinear\")\n",
        "plt.axis(\"off\")\n",
        "plt.show()"
      ],
      "execution_count": 0,
      "outputs": []
    },
    {
      "cell_type": "markdown",
      "metadata": {
        "id": "5LgeeNzTserd",
        "colab_type": "text"
      },
      "source": [
        "### 3.9.2 Word cloud of positive terms"
      ]
    },
    {
      "cell_type": "code",
      "metadata": {
        "id": "IZSTkEQisere",
        "colab_type": "code",
        "colab": {}
      },
      "source": [
        "pos_tweets = data[data.Sentiment == 1]\n",
        "pos_string = []\n",
        "\n",
        "for t in pos_tweets.SentimentTextNew:\n",
        "    pos_string.append(t)\n",
        "\n",
        "pos_string = pd.Series(pos_string).str.cat(sep=' ')\n",
        "wordcloud = WordCloud(\n",
        "    width=1600,\n",
        "    height=800,\n",
        "    max_font_size=200,\n",
        "    colormap='viridis',\n",
        "    background_color='white').generate(pos_string) \n",
        "\n",
        "plt.figure(figsize=(12,10)) \n",
        "plt.imshow(wordcloud, interpolation=\"bilinear\") \n",
        "plt.axis(\"off\") \n",
        "plt.show()"
      ],
      "execution_count": 0,
      "outputs": []
    },
    {
      "cell_type": "markdown",
      "metadata": {
        "id": "1jYJZMrLKndv",
        "colab_type": "text"
      },
      "source": [
        "### 3.9.3 Unique negative words\n"
      ]
    },
    {
      "cell_type": "code",
      "metadata": {
        "id": "U7iJQwLTr1hH",
        "colab_type": "code",
        "colab": {}
      },
      "source": [
        "neg_un = pd.Series(neg_string.split())\n",
        "neg_un = neg_un[~neg_un.isin(pos_un)]\n",
        "len(neg_un)"
      ],
      "execution_count": 0,
      "outputs": []
    },
    {
      "cell_type": "code",
      "metadata": {
        "id": "PHC7259d9cB3",
        "colab_type": "code",
        "colab": {}
      },
      "source": [
        "wordcloud = WordCloud(\n",
        "    width=1600,\n",
        "    height=800,\n",
        "    max_font_size=200,\n",
        "    colormap='inferno',\n",
        "    background_color='white').generate(neg_un.str.cat(sep=' ')) \n",
        "\n",
        "plt.figure(figsize=(12,10)) \n",
        "plt.imshow(wordcloud, interpolation=\"bilinear\") \n",
        "plt.axis(\"off\") \n",
        "plt.show()"
      ],
      "execution_count": 0,
      "outputs": []
    },
    {
      "cell_type": "markdown",
      "metadata": {
        "id": "B8L_8E_x9FQz",
        "colab_type": "text"
      },
      "source": [
        "### 3.9.4 Unique postive words "
      ]
    },
    {
      "cell_type": "code",
      "metadata": {
        "id": "Psvo4Hry-Cq9",
        "colab_type": "code",
        "colab": {}
      },
      "source": [
        "pos_un = pd.Series(pos_string.split())\n",
        "pos_un = pos_un[~pos_un.isin(neg_un)]\n",
        "len(pos_un)"
      ],
      "execution_count": 0,
      "outputs": []
    },
    {
      "cell_type": "code",
      "metadata": {
        "id": "CKUA4sYAsaLt",
        "colab_type": "code",
        "colab": {}
      },
      "source": [
        "wordcloud = WordCloud(\n",
        "    width=1600,\n",
        "    height=800,\n",
        "    max_font_size=200,\n",
        "    colormap='viridis',\n",
        "    background_color='white').generate(pos_un.str.cat(sep=' ')) \n",
        "\n",
        "plt.figure(figsize=(12,10)) \n",
        "plt.imshow(wordcloud, interpolation=\"bilinear\") \n",
        "plt.axis(\"off\") \n",
        "plt.show()"
      ],
      "execution_count": 0,
      "outputs": []
    },
    {
      "cell_type": "markdown",
      "metadata": {
        "id": "dTMI_KIbser8",
        "colab_type": "text"
      },
      "source": [
        "# 4. Classification"
      ]
    },
    {
      "cell_type": "markdown",
      "metadata": {
        "id": "-8KQREZwser9",
        "colab_type": "text"
      },
      "source": [
        "## 4.1 Split into train and test\n",
        "Assumption:\n",
        "- 20% Test\n",
        "- 80% Train"
      ]
    },
    {
      "cell_type": "code",
      "metadata": {
        "id": "xLH6DKn0ser-",
        "colab_type": "code",
        "colab": {}
      },
      "source": [
        "SEED = 2000\n",
        "x_train, x_validation, y_train, y_validation = train_test_split(data.SentimentTextNew, data.Sentiment, test_size=.2, random_state=SEED)"
      ],
      "execution_count": 0,
      "outputs": []
    },
    {
      "cell_type": "markdown",
      "metadata": {
        "id": "EgiLb1RIYqMJ",
        "colab_type": "text"
      },
      "source": [
        "## 4.2 Compare classifiers\n",
        "Classifiers:\n",
        "- Logistic Regression\n",
        "- Multinomial NB\n",
        "- Perceptron"
      ]
    },
    {
      "cell_type": "code",
      "metadata": {
        "id": "gEu7flrGYmnm",
        "colab_type": "code",
        "colab": {}
      },
      "source": [
        "names = [\"Logistic Regression\", \"Multinomial NB\", \"Perceptron\"]\n",
        "classifiers = [LogisticRegression(), MultinomialNB(), Perceptron()]\n",
        "zipped_clf = zip(names,classifiers)"
      ],
      "execution_count": 0,
      "outputs": []
    },
    {
      "cell_type": "markdown",
      "metadata": {
        "id": "hT2kyaM2YcB9",
        "colab_type": "text"
      },
      "source": [
        "## 4.3 Term frequency–inverse document frequency weighting\n",
        "This scale down the impact of tokens that occur very frequently in a given corpus and that are hence empirically less informative than features that occur in a small fraction of the training corpus"
      ]
    },
    {
      "cell_type": "code",
      "metadata": {
        "id": "yTxHOwhCsesD",
        "colab_type": "code",
        "colab": {}
      },
      "source": [
        "vec = TfidfVectorizer()"
      ],
      "execution_count": 0,
      "outputs": []
    },
    {
      "cell_type": "markdown",
      "metadata": {
        "id": "7WWT1hJzcXTN",
        "colab_type": "text"
      },
      "source": [
        "Functions to compare classifiers"
      ]
    },
    {
      "cell_type": "code",
      "metadata": {
        "id": "vdjgq4Y5cRKP",
        "colab_type": "code",
        "colab": {}
      },
      "source": [
        "def acc_summary(pipeline, x_train, y_train, x_test, y_test):\n",
        "    \n",
        "    sentiment_fit = pipeline.fit(x_train, y_train)\n",
        "    y_pred = sentiment_fit.predict(x_test)\n",
        "  \n",
        "    # Compute the accuracy\n",
        "    accuracy = accuracy_score(y_test, y_pred)\n",
        "    # Compute the precision and recall\n",
        "    precision, recall, _ = precision_recall_curve(y_test, y_pred)\n",
        "    # Compute the average precision\n",
        "    average_precision = average_precision_score(y_test, y_pred)\n",
        "  \n",
        "    fpr, tpr, _ = roc_curve(y_test, y_pred)\n",
        "    print('Average precision-recall score: {0:0.2f}'.format(average_precision))\n",
        "    print(\"accuracy score: {0:.2f}%\".format(accuracy*100))\n",
        "    print(\"-\"*80)\n",
        "    return accuracy, precision, recall, average_precision, fpr, tpr\n",
        "\n",
        "\n",
        "def classifier_comparator(vectorizer=vec, n_features=10000, ngram_range=(1, 3), classifier=zipped_clf):\n",
        "    result = []\n",
        "    vectorizer.set_params(max_features=n_features, ngram_range=ngram_range)\n",
        "\n",
        "    for n,c in classifier:\n",
        "        checker_pipeline = Pipeline([\n",
        "            ('vectorizer', vectorizer),\n",
        "            ('classifier', c)\n",
        "        ])\n",
        "        print (\"Validation result for {}\".format(n))\n",
        "        clf_acc, prec, rec, avg, fp, tp = acc_summary(checker_pipeline, x_train, y_train, x_validation, y_validation)\n",
        "        result.append((n,clf_acc,prec, rec, avg, fp, tp))\n",
        "\n",
        "    return result\n",
        "\n",
        "\n",
        "result = classifier_comparator(n_features=100000,ngram_range=(1,3))"
      ],
      "execution_count": 0,
      "outputs": []
    },
    {
      "cell_type": "code",
      "metadata": {
        "id": "JOyO5z70sesG",
        "colab_type": "code",
        "outputId": "f740c461-b570-4d5d-cd8e-e4186c11b43e",
        "colab": {
          "base_uri": "https://localhost:8080/",
          "height": 542
        }
      },
      "source": [
        "acc=[]\n",
        "names = []\n",
        "avg_ = []\n",
        "fp_ = []\n",
        "tp_ = []\n",
        "\n",
        "for name, accuracy, prec, rec, avg, fp, tp in result:\n",
        "    acc.append(accuracy*100)\n",
        "    names.append(name)\n",
        "\n",
        "    avg_.append(avg*100)\n",
        "    fp_.append(fp)\n",
        "    tp_.append(tp)\n",
        "trace1 = go.Bar(\n",
        "    x=names,\n",
        "    y=acc,\n",
        "    name='Accuracy percentage (%)'\n",
        ")\n",
        "trace3 = go.Bar(\n",
        "    x=names,\n",
        "    y=avg_,\n",
        "    name='Average precision (%)'\n",
        ")\n",
        "\n",
        "\n",
        "data = [trace1, trace3]\n",
        "layout = go.Layout(\n",
        "    barmode='group'\n",
        ")\n",
        "\n",
        "fig = go.Figure(data=data, layout=layout)\n",
        "py.iplot(fig, filename='grouped-bar')"
      ],
      "execution_count": 0,
      "outputs": [
        {
          "output_type": "display_data",
          "data": {
            "text/html": [
              "<div>\n",
              "        \n",
              "        \n",
              "            <div id=\"17eaf5ad-333e-4339-bbdd-7d3c1eeaae2f\" class=\"plotly-graph-div\" style=\"height:525px; width:100%;\"></div>\n",
              "            <script type=\"text/javascript\">\n",
              "                require([\"plotly\"], function(Plotly) {\n",
              "                    window.PLOTLYENV=window.PLOTLYENV || {};\n",
              "                    \n",
              "                if (document.getElementById(\"17eaf5ad-333e-4339-bbdd-7d3c1eeaae2f\")) {\n",
              "                    Plotly.newPlot(\n",
              "                        '17eaf5ad-333e-4339-bbdd-7d3c1eeaae2f',\n",
              "                        [{\"name\": \"Accuracy percentage (%)\", \"type\": \"bar\", \"x\": [\"Logistic Regression\", \"Multinomial NB\", \"Perceptron\"], \"y\": [88.74, 88.02, 87.83999999999999]}, {\"name\": \"Average precision (%)\", \"type\": \"bar\", \"x\": [\"Logistic Regression\", \"Multinomial NB\", \"Perceptron\"], \"y\": [83.88000394524006, 83.36668592198352, 82.73396067750018]}],\n",
              "                        {\"barmode\": \"group\", \"template\": {\"data\": {\"bar\": [{\"error_x\": {\"color\": \"#2a3f5f\"}, \"error_y\": {\"color\": \"#2a3f5f\"}, \"marker\": {\"line\": {\"color\": \"#E5ECF6\", \"width\": 0.5}}, \"type\": \"bar\"}], \"barpolar\": [{\"marker\": {\"line\": {\"color\": \"#E5ECF6\", \"width\": 0.5}}, \"type\": \"barpolar\"}], \"carpet\": [{\"aaxis\": {\"endlinecolor\": \"#2a3f5f\", \"gridcolor\": \"white\", \"linecolor\": \"white\", \"minorgridcolor\": \"white\", \"startlinecolor\": \"#2a3f5f\"}, \"baxis\": {\"endlinecolor\": \"#2a3f5f\", \"gridcolor\": \"white\", \"linecolor\": \"white\", \"minorgridcolor\": \"white\", \"startlinecolor\": \"#2a3f5f\"}, \"type\": \"carpet\"}], \"choropleth\": [{\"colorbar\": {\"outlinewidth\": 0, \"ticks\": \"\"}, \"type\": \"choropleth\"}], \"contour\": [{\"colorbar\": {\"outlinewidth\": 0, \"ticks\": \"\"}, \"colorscale\": [[0.0, \"#0d0887\"], [0.1111111111111111, \"#46039f\"], [0.2222222222222222, \"#7201a8\"], [0.3333333333333333, \"#9c179e\"], [0.4444444444444444, \"#bd3786\"], [0.5555555555555556, \"#d8576b\"], [0.6666666666666666, \"#ed7953\"], [0.7777777777777778, \"#fb9f3a\"], [0.8888888888888888, \"#fdca26\"], [1.0, \"#f0f921\"]], \"type\": \"contour\"}], \"contourcarpet\": [{\"colorbar\": {\"outlinewidth\": 0, \"ticks\": \"\"}, \"type\": \"contourcarpet\"}], \"heatmap\": [{\"colorbar\": {\"outlinewidth\": 0, \"ticks\": \"\"}, \"colorscale\": [[0.0, \"#0d0887\"], [0.1111111111111111, \"#46039f\"], [0.2222222222222222, \"#7201a8\"], [0.3333333333333333, \"#9c179e\"], [0.4444444444444444, \"#bd3786\"], [0.5555555555555556, \"#d8576b\"], [0.6666666666666666, \"#ed7953\"], [0.7777777777777778, \"#fb9f3a\"], [0.8888888888888888, \"#fdca26\"], [1.0, \"#f0f921\"]], \"type\": \"heatmap\"}], \"heatmapgl\": [{\"colorbar\": {\"outlinewidth\": 0, \"ticks\": \"\"}, \"colorscale\": [[0.0, \"#0d0887\"], [0.1111111111111111, \"#46039f\"], [0.2222222222222222, \"#7201a8\"], [0.3333333333333333, \"#9c179e\"], [0.4444444444444444, \"#bd3786\"], [0.5555555555555556, \"#d8576b\"], [0.6666666666666666, \"#ed7953\"], [0.7777777777777778, \"#fb9f3a\"], [0.8888888888888888, \"#fdca26\"], [1.0, \"#f0f921\"]], \"type\": \"heatmapgl\"}], \"histogram\": [{\"marker\": {\"colorbar\": {\"outlinewidth\": 0, \"ticks\": \"\"}}, \"type\": \"histogram\"}], \"histogram2d\": [{\"colorbar\": {\"outlinewidth\": 0, \"ticks\": \"\"}, \"colorscale\": [[0.0, \"#0d0887\"], [0.1111111111111111, \"#46039f\"], [0.2222222222222222, \"#7201a8\"], [0.3333333333333333, \"#9c179e\"], [0.4444444444444444, \"#bd3786\"], [0.5555555555555556, \"#d8576b\"], [0.6666666666666666, \"#ed7953\"], [0.7777777777777778, \"#fb9f3a\"], [0.8888888888888888, \"#fdca26\"], [1.0, \"#f0f921\"]], \"type\": \"histogram2d\"}], \"histogram2dcontour\": [{\"colorbar\": {\"outlinewidth\": 0, \"ticks\": \"\"}, \"colorscale\": [[0.0, \"#0d0887\"], [0.1111111111111111, \"#46039f\"], [0.2222222222222222, \"#7201a8\"], [0.3333333333333333, \"#9c179e\"], [0.4444444444444444, \"#bd3786\"], [0.5555555555555556, \"#d8576b\"], [0.6666666666666666, \"#ed7953\"], [0.7777777777777778, \"#fb9f3a\"], [0.8888888888888888, \"#fdca26\"], [1.0, \"#f0f921\"]], \"type\": \"histogram2dcontour\"}], \"mesh3d\": [{\"colorbar\": {\"outlinewidth\": 0, \"ticks\": \"\"}, \"type\": \"mesh3d\"}], \"parcoords\": [{\"line\": {\"colorbar\": {\"outlinewidth\": 0, \"ticks\": \"\"}}, \"type\": \"parcoords\"}], \"pie\": [{\"automargin\": true, \"type\": \"pie\"}], \"scatter\": [{\"marker\": {\"colorbar\": {\"outlinewidth\": 0, \"ticks\": \"\"}}, \"type\": \"scatter\"}], \"scatter3d\": [{\"line\": {\"colorbar\": {\"outlinewidth\": 0, \"ticks\": \"\"}}, \"marker\": {\"colorbar\": {\"outlinewidth\": 0, \"ticks\": \"\"}}, \"type\": \"scatter3d\"}], \"scattercarpet\": [{\"marker\": {\"colorbar\": {\"outlinewidth\": 0, \"ticks\": \"\"}}, \"type\": \"scattercarpet\"}], \"scattergeo\": [{\"marker\": {\"colorbar\": {\"outlinewidth\": 0, \"ticks\": \"\"}}, \"type\": \"scattergeo\"}], \"scattergl\": [{\"marker\": {\"colorbar\": {\"outlinewidth\": 0, \"ticks\": \"\"}}, \"type\": \"scattergl\"}], \"scattermapbox\": [{\"marker\": {\"colorbar\": {\"outlinewidth\": 0, \"ticks\": \"\"}}, \"type\": \"scattermapbox\"}], \"scatterpolar\": [{\"marker\": {\"colorbar\": {\"outlinewidth\": 0, \"ticks\": \"\"}}, \"type\": \"scatterpolar\"}], \"scatterpolargl\": [{\"marker\": {\"colorbar\": {\"outlinewidth\": 0, \"ticks\": \"\"}}, \"type\": \"scatterpolargl\"}], \"scatterternary\": [{\"marker\": {\"colorbar\": {\"outlinewidth\": 0, \"ticks\": \"\"}}, \"type\": \"scatterternary\"}], \"surface\": [{\"colorbar\": {\"outlinewidth\": 0, \"ticks\": \"\"}, \"colorscale\": [[0.0, \"#0d0887\"], [0.1111111111111111, \"#46039f\"], [0.2222222222222222, \"#7201a8\"], [0.3333333333333333, \"#9c179e\"], [0.4444444444444444, \"#bd3786\"], [0.5555555555555556, \"#d8576b\"], [0.6666666666666666, \"#ed7953\"], [0.7777777777777778, \"#fb9f3a\"], [0.8888888888888888, \"#fdca26\"], [1.0, \"#f0f921\"]], \"type\": \"surface\"}], \"table\": [{\"cells\": {\"fill\": {\"color\": \"#EBF0F8\"}, \"line\": {\"color\": \"white\"}}, \"header\": {\"fill\": {\"color\": \"#C8D4E3\"}, \"line\": {\"color\": \"white\"}}, \"type\": \"table\"}]}, \"layout\": {\"annotationdefaults\": {\"arrowcolor\": \"#2a3f5f\", \"arrowhead\": 0, \"arrowwidth\": 1}, \"coloraxis\": {\"colorbar\": {\"outlinewidth\": 0, \"ticks\": \"\"}}, \"colorscale\": {\"diverging\": [[0, \"#8e0152\"], [0.1, \"#c51b7d\"], [0.2, \"#de77ae\"], [0.3, \"#f1b6da\"], [0.4, \"#fde0ef\"], [0.5, \"#f7f7f7\"], [0.6, \"#e6f5d0\"], [0.7, \"#b8e186\"], [0.8, \"#7fbc41\"], [0.9, \"#4d9221\"], [1, \"#276419\"]], \"sequential\": [[0.0, \"#0d0887\"], [0.1111111111111111, \"#46039f\"], [0.2222222222222222, \"#7201a8\"], [0.3333333333333333, \"#9c179e\"], [0.4444444444444444, \"#bd3786\"], [0.5555555555555556, \"#d8576b\"], [0.6666666666666666, \"#ed7953\"], [0.7777777777777778, \"#fb9f3a\"], [0.8888888888888888, \"#fdca26\"], [1.0, \"#f0f921\"]], \"sequentialminus\": [[0.0, \"#0d0887\"], [0.1111111111111111, \"#46039f\"], [0.2222222222222222, \"#7201a8\"], [0.3333333333333333, \"#9c179e\"], [0.4444444444444444, \"#bd3786\"], [0.5555555555555556, \"#d8576b\"], [0.6666666666666666, \"#ed7953\"], [0.7777777777777778, \"#fb9f3a\"], [0.8888888888888888, \"#fdca26\"], [1.0, \"#f0f921\"]]}, \"colorway\": [\"#636efa\", \"#EF553B\", \"#00cc96\", \"#ab63fa\", \"#FFA15A\", \"#19d3f3\", \"#FF6692\", \"#B6E880\", \"#FF97FF\", \"#FECB52\"], \"font\": {\"color\": \"#2a3f5f\"}, \"geo\": {\"bgcolor\": \"white\", \"lakecolor\": \"white\", \"landcolor\": \"#E5ECF6\", \"showlakes\": true, \"showland\": true, \"subunitcolor\": \"white\"}, \"hoverlabel\": {\"align\": \"left\"}, \"hovermode\": \"closest\", \"mapbox\": {\"style\": \"light\"}, \"paper_bgcolor\": \"white\", \"plot_bgcolor\": \"#E5ECF6\", \"polar\": {\"angularaxis\": {\"gridcolor\": \"white\", \"linecolor\": \"white\", \"ticks\": \"\"}, \"bgcolor\": \"#E5ECF6\", \"radialaxis\": {\"gridcolor\": \"white\", \"linecolor\": \"white\", \"ticks\": \"\"}}, \"scene\": {\"xaxis\": {\"backgroundcolor\": \"#E5ECF6\", \"gridcolor\": \"white\", \"gridwidth\": 2, \"linecolor\": \"white\", \"showbackground\": true, \"ticks\": \"\", \"zerolinecolor\": \"white\"}, \"yaxis\": {\"backgroundcolor\": \"#E5ECF6\", \"gridcolor\": \"white\", \"gridwidth\": 2, \"linecolor\": \"white\", \"showbackground\": true, \"ticks\": \"\", \"zerolinecolor\": \"white\"}, \"zaxis\": {\"backgroundcolor\": \"#E5ECF6\", \"gridcolor\": \"white\", \"gridwidth\": 2, \"linecolor\": \"white\", \"showbackground\": true, \"ticks\": \"\", \"zerolinecolor\": \"white\"}}, \"shapedefaults\": {\"line\": {\"color\": \"#2a3f5f\"}}, \"ternary\": {\"aaxis\": {\"gridcolor\": \"white\", \"linecolor\": \"white\", \"ticks\": \"\"}, \"baxis\": {\"gridcolor\": \"white\", \"linecolor\": \"white\", \"ticks\": \"\"}, \"bgcolor\": \"#E5ECF6\", \"caxis\": {\"gridcolor\": \"white\", \"linecolor\": \"white\", \"ticks\": \"\"}}, \"title\": {\"x\": 0.05}, \"xaxis\": {\"automargin\": true, \"gridcolor\": \"white\", \"linecolor\": \"white\", \"ticks\": \"\", \"title\": {\"standoff\": 15}, \"zerolinecolor\": \"white\", \"zerolinewidth\": 2}, \"yaxis\": {\"automargin\": true, \"gridcolor\": \"white\", \"linecolor\": \"white\", \"ticks\": \"\", \"title\": {\"standoff\": 15}, \"zerolinecolor\": \"white\", \"zerolinewidth\": 2}}}},\n",
              "                        {\"responsive\": true}\n",
              "                    ).then(function(){\n",
              "                            \n",
              "var gd = document.getElementById('17eaf5ad-333e-4339-bbdd-7d3c1eeaae2f');\n",
              "var x = new MutationObserver(function (mutations, observer) {{\n",
              "        var display = window.getComputedStyle(gd).display;\n",
              "        if (!display || display === 'none') {{\n",
              "            console.log([gd, 'removed!']);\n",
              "            Plotly.purge(gd);\n",
              "            observer.disconnect();\n",
              "        }}\n",
              "}});\n",
              "\n",
              "// Listen for the removal of the full notebook cells\n",
              "var notebookContainer = gd.closest('#notebook-container');\n",
              "if (notebookContainer) {{\n",
              "    x.observe(notebookContainer, {childList: true});\n",
              "}}\n",
              "\n",
              "// Listen for the clearing of the current output cell\n",
              "var outputEl = gd.closest('.output');\n",
              "if (outputEl) {{\n",
              "    x.observe(outputEl, {childList: true});\n",
              "}}\n",
              "\n",
              "                        })\n",
              "                };\n",
              "                });\n",
              "            </script>\n",
              "        </div>"
            ],
            "application/vnd.plotly.v1+json": {
              "data": [
                {
                  "y": [
                    88.74,
                    88.02,
                    87.83999999999999
                  ],
                  "x": [
                    "Logistic Regression",
                    "Multinomial NB",
                    "Perceptron"
                  ],
                  "type": "bar",
                  "name": "Accuracy percentage (%)"
                },
                {
                  "y": [
                    83.88000394524006,
                    83.36668592198352,
                    82.73396067750018
                  ],
                  "x": [
                    "Logistic Regression",
                    "Multinomial NB",
                    "Perceptron"
                  ],
                  "type": "bar",
                  "name": "Average precision (%)"
                }
              ],
              "config": {
                "plotlyServerURL": "https://plot.ly",
                "linkText": "Export to plot.ly",
                "showLink": false
              },
              "layout": {
                "barmode": "group",
                "template": {
                  "layout": {
                    "shapedefaults": {
                      "line": {
                        "color": "#2a3f5f"
                      }
                    },
                    "polar": {
                      "radialaxis": {
                        "ticks": "",
                        "gridcolor": "white",
                        "linecolor": "white"
                      },
                      "bgcolor": "#E5ECF6",
                      "angularaxis": {
                        "ticks": "",
                        "gridcolor": "white",
                        "linecolor": "white"
                      }
                    },
                    "colorway": [
                      "#636efa",
                      "#EF553B",
                      "#00cc96",
                      "#ab63fa",
                      "#FFA15A",
                      "#19d3f3",
                      "#FF6692",
                      "#B6E880",
                      "#FF97FF",
                      "#FECB52"
                    ],
                    "xaxis": {
                      "automargin": true,
                      "title": {
                        "standoff": 15
                      },
                      "zerolinewidth": 2,
                      "ticks": "",
                      "zerolinecolor": "white",
                      "gridcolor": "white",
                      "linecolor": "white"
                    },
                    "colorscale": {
                      "diverging": [
                        [
                          0,
                          "#8e0152"
                        ],
                        [
                          0.1,
                          "#c51b7d"
                        ],
                        [
                          0.2,
                          "#de77ae"
                        ],
                        [
                          0.3,
                          "#f1b6da"
                        ],
                        [
                          0.4,
                          "#fde0ef"
                        ],
                        [
                          0.5,
                          "#f7f7f7"
                        ],
                        [
                          0.6,
                          "#e6f5d0"
                        ],
                        [
                          0.7,
                          "#b8e186"
                        ],
                        [
                          0.8,
                          "#7fbc41"
                        ],
                        [
                          0.9,
                          "#4d9221"
                        ],
                        [
                          1,
                          "#276419"
                        ]
                      ],
                      "sequential": [
                        [
                          0,
                          "#0d0887"
                        ],
                        [
                          0.1111111111111111,
                          "#46039f"
                        ],
                        [
                          0.2222222222222222,
                          "#7201a8"
                        ],
                        [
                          0.3333333333333333,
                          "#9c179e"
                        ],
                        [
                          0.4444444444444444,
                          "#bd3786"
                        ],
                        [
                          0.5555555555555556,
                          "#d8576b"
                        ],
                        [
                          0.6666666666666666,
                          "#ed7953"
                        ],
                        [
                          0.7777777777777778,
                          "#fb9f3a"
                        ],
                        [
                          0.8888888888888888,
                          "#fdca26"
                        ],
                        [
                          1,
                          "#f0f921"
                        ]
                      ],
                      "sequentialminus": [
                        [
                          0,
                          "#0d0887"
                        ],
                        [
                          0.1111111111111111,
                          "#46039f"
                        ],
                        [
                          0.2222222222222222,
                          "#7201a8"
                        ],
                        [
                          0.3333333333333333,
                          "#9c179e"
                        ],
                        [
                          0.4444444444444444,
                          "#bd3786"
                        ],
                        [
                          0.5555555555555556,
                          "#d8576b"
                        ],
                        [
                          0.6666666666666666,
                          "#ed7953"
                        ],
                        [
                          0.7777777777777778,
                          "#fb9f3a"
                        ],
                        [
                          0.8888888888888888,
                          "#fdca26"
                        ],
                        [
                          1,
                          "#f0f921"
                        ]
                      ]
                    },
                    "paper_bgcolor": "white",
                    "plot_bgcolor": "#E5ECF6",
                    "title": {
                      "x": 0.05
                    },
                    "scene": {
                      "zaxis": {
                        "backgroundcolor": "#E5ECF6",
                        "ticks": "",
                        "gridwidth": 2,
                        "showbackground": true,
                        "zerolinecolor": "white",
                        "gridcolor": "white",
                        "linecolor": "white"
                      },
                      "xaxis": {
                        "backgroundcolor": "#E5ECF6",
                        "ticks": "",
                        "gridwidth": 2,
                        "showbackground": true,
                        "zerolinecolor": "white",
                        "gridcolor": "white",
                        "linecolor": "white"
                      },
                      "yaxis": {
                        "backgroundcolor": "#E5ECF6",
                        "ticks": "",
                        "gridwidth": 2,
                        "showbackground": true,
                        "zerolinecolor": "white",
                        "gridcolor": "white",
                        "linecolor": "white"
                      }
                    },
                    "yaxis": {
                      "automargin": true,
                      "title": {
                        "standoff": 15
                      },
                      "zerolinewidth": 2,
                      "ticks": "",
                      "zerolinecolor": "white",
                      "gridcolor": "white",
                      "linecolor": "white"
                    },
                    "annotationdefaults": {
                      "arrowwidth": 1,
                      "arrowhead": 0,
                      "arrowcolor": "#2a3f5f"
                    },
                    "hoverlabel": {
                      "align": "left"
                    },
                    "ternary": {
                      "bgcolor": "#E5ECF6",
                      "baxis": {
                        "ticks": "",
                        "gridcolor": "white",
                        "linecolor": "white"
                      },
                      "caxis": {
                        "ticks": "",
                        "gridcolor": "white",
                        "linecolor": "white"
                      },
                      "aaxis": {
                        "ticks": "",
                        "gridcolor": "white",
                        "linecolor": "white"
                      }
                    },
                    "mapbox": {
                      "style": "light"
                    },
                    "hovermode": "closest",
                    "font": {
                      "color": "#2a3f5f"
                    },
                    "geo": {
                      "showland": true,
                      "landcolor": "#E5ECF6",
                      "showlakes": true,
                      "bgcolor": "white",
                      "subunitcolor": "white",
                      "lakecolor": "white"
                    },
                    "coloraxis": {
                      "colorbar": {
                        "outlinewidth": 0,
                        "ticks": ""
                      }
                    }
                  },
                  "data": {
                    "mesh3d": [
                      {
                        "colorbar": {
                          "outlinewidth": 0,
                          "ticks": ""
                        },
                        "type": "mesh3d"
                      }
                    ],
                    "scattercarpet": [
                      {
                        "marker": {
                          "colorbar": {
                            "outlinewidth": 0,
                            "ticks": ""
                          }
                        },
                        "type": "scattercarpet"
                      }
                    ],
                    "pie": [
                      {
                        "automargin": true,
                        "type": "pie"
                      }
                    ],
                    "surface": [
                      {
                        "colorbar": {
                          "outlinewidth": 0,
                          "ticks": ""
                        },
                        "type": "surface",
                        "colorscale": [
                          [
                            0,
                            "#0d0887"
                          ],
                          [
                            0.1111111111111111,
                            "#46039f"
                          ],
                          [
                            0.2222222222222222,
                            "#7201a8"
                          ],
                          [
                            0.3333333333333333,
                            "#9c179e"
                          ],
                          [
                            0.4444444444444444,
                            "#bd3786"
                          ],
                          [
                            0.5555555555555556,
                            "#d8576b"
                          ],
                          [
                            0.6666666666666666,
                            "#ed7953"
                          ],
                          [
                            0.7777777777777778,
                            "#fb9f3a"
                          ],
                          [
                            0.8888888888888888,
                            "#fdca26"
                          ],
                          [
                            1,
                            "#f0f921"
                          ]
                        ]
                      }
                    ],
                    "table": [
                      {
                        "header": {
                          "line": {
                            "color": "white"
                          },
                          "fill": {
                            "color": "#C8D4E3"
                          }
                        },
                        "cells": {
                          "line": {
                            "color": "white"
                          },
                          "fill": {
                            "color": "#EBF0F8"
                          }
                        },
                        "type": "table"
                      }
                    ],
                    "scatterpolargl": [
                      {
                        "marker": {
                          "colorbar": {
                            "outlinewidth": 0,
                            "ticks": ""
                          }
                        },
                        "type": "scatterpolargl"
                      }
                    ],
                    "contour": [
                      {
                        "colorbar": {
                          "outlinewidth": 0,
                          "ticks": ""
                        },
                        "type": "contour",
                        "colorscale": [
                          [
                            0,
                            "#0d0887"
                          ],
                          [
                            0.1111111111111111,
                            "#46039f"
                          ],
                          [
                            0.2222222222222222,
                            "#7201a8"
                          ],
                          [
                            0.3333333333333333,
                            "#9c179e"
                          ],
                          [
                            0.4444444444444444,
                            "#bd3786"
                          ],
                          [
                            0.5555555555555556,
                            "#d8576b"
                          ],
                          [
                            0.6666666666666666,
                            "#ed7953"
                          ],
                          [
                            0.7777777777777778,
                            "#fb9f3a"
                          ],
                          [
                            0.8888888888888888,
                            "#fdca26"
                          ],
                          [
                            1,
                            "#f0f921"
                          ]
                        ]
                      }
                    ],
                    "carpet": [
                      {
                        "type": "carpet",
                        "baxis": {
                          "minorgridcolor": "white",
                          "gridcolor": "white",
                          "linecolor": "white",
                          "endlinecolor": "#2a3f5f",
                          "startlinecolor": "#2a3f5f"
                        },
                        "aaxis": {
                          "minorgridcolor": "white",
                          "gridcolor": "white",
                          "linecolor": "white",
                          "endlinecolor": "#2a3f5f",
                          "startlinecolor": "#2a3f5f"
                        }
                      }
                    ],
                    "contourcarpet": [
                      {
                        "colorbar": {
                          "outlinewidth": 0,
                          "ticks": ""
                        },
                        "type": "contourcarpet"
                      }
                    ],
                    "heatmap": [
                      {
                        "colorbar": {
                          "outlinewidth": 0,
                          "ticks": ""
                        },
                        "type": "heatmap",
                        "colorscale": [
                          [
                            0,
                            "#0d0887"
                          ],
                          [
                            0.1111111111111111,
                            "#46039f"
                          ],
                          [
                            0.2222222222222222,
                            "#7201a8"
                          ],
                          [
                            0.3333333333333333,
                            "#9c179e"
                          ],
                          [
                            0.4444444444444444,
                            "#bd3786"
                          ],
                          [
                            0.5555555555555556,
                            "#d8576b"
                          ],
                          [
                            0.6666666666666666,
                            "#ed7953"
                          ],
                          [
                            0.7777777777777778,
                            "#fb9f3a"
                          ],
                          [
                            0.8888888888888888,
                            "#fdca26"
                          ],
                          [
                            1,
                            "#f0f921"
                          ]
                        ]
                      }
                    ],
                    "scattermapbox": [
                      {
                        "marker": {
                          "colorbar": {
                            "outlinewidth": 0,
                            "ticks": ""
                          }
                        },
                        "type": "scattermapbox"
                      }
                    ],
                    "scatter3d": [
                      {
                        "marker": {
                          "colorbar": {
                            "outlinewidth": 0,
                            "ticks": ""
                          }
                        },
                        "line": {
                          "colorbar": {
                            "outlinewidth": 0,
                            "ticks": ""
                          }
                        },
                        "type": "scatter3d"
                      }
                    ],
                    "scattergl": [
                      {
                        "marker": {
                          "colorbar": {
                            "outlinewidth": 0,
                            "ticks": ""
                          }
                        },
                        "type": "scattergl"
                      }
                    ],
                    "scatterternary": [
                      {
                        "marker": {
                          "colorbar": {
                            "outlinewidth": 0,
                            "ticks": ""
                          }
                        },
                        "type": "scatterternary"
                      }
                    ],
                    "histogram": [
                      {
                        "marker": {
                          "colorbar": {
                            "outlinewidth": 0,
                            "ticks": ""
                          }
                        },
                        "type": "histogram"
                      }
                    ],
                    "heatmapgl": [
                      {
                        "colorbar": {
                          "outlinewidth": 0,
                          "ticks": ""
                        },
                        "type": "heatmapgl",
                        "colorscale": [
                          [
                            0,
                            "#0d0887"
                          ],
                          [
                            0.1111111111111111,
                            "#46039f"
                          ],
                          [
                            0.2222222222222222,
                            "#7201a8"
                          ],
                          [
                            0.3333333333333333,
                            "#9c179e"
                          ],
                          [
                            0.4444444444444444,
                            "#bd3786"
                          ],
                          [
                            0.5555555555555556,
                            "#d8576b"
                          ],
                          [
                            0.6666666666666666,
                            "#ed7953"
                          ],
                          [
                            0.7777777777777778,
                            "#fb9f3a"
                          ],
                          [
                            0.8888888888888888,
                            "#fdca26"
                          ],
                          [
                            1,
                            "#f0f921"
                          ]
                        ]
                      }
                    ],
                    "scatterpolar": [
                      {
                        "marker": {
                          "colorbar": {
                            "outlinewidth": 0,
                            "ticks": ""
                          }
                        },
                        "type": "scatterpolar"
                      }
                    ],
                    "histogram2d": [
                      {
                        "colorbar": {
                          "outlinewidth": 0,
                          "ticks": ""
                        },
                        "type": "histogram2d",
                        "colorscale": [
                          [
                            0,
                            "#0d0887"
                          ],
                          [
                            0.1111111111111111,
                            "#46039f"
                          ],
                          [
                            0.2222222222222222,
                            "#7201a8"
                          ],
                          [
                            0.3333333333333333,
                            "#9c179e"
                          ],
                          [
                            0.4444444444444444,
                            "#bd3786"
                          ],
                          [
                            0.5555555555555556,
                            "#d8576b"
                          ],
                          [
                            0.6666666666666666,
                            "#ed7953"
                          ],
                          [
                            0.7777777777777778,
                            "#fb9f3a"
                          ],
                          [
                            0.8888888888888888,
                            "#fdca26"
                          ],
                          [
                            1,
                            "#f0f921"
                          ]
                        ]
                      }
                    ],
                    "scattergeo": [
                      {
                        "marker": {
                          "colorbar": {
                            "outlinewidth": 0,
                            "ticks": ""
                          }
                        },
                        "type": "scattergeo"
                      }
                    ],
                    "bar": [
                      {
                        "marker": {
                          "line": {
                            "color": "#E5ECF6",
                            "width": 0.5
                          }
                        },
                        "type": "bar",
                        "error_x": {
                          "color": "#2a3f5f"
                        },
                        "error_y": {
                          "color": "#2a3f5f"
                        }
                      }
                    ],
                    "choropleth": [
                      {
                        "colorbar": {
                          "outlinewidth": 0,
                          "ticks": ""
                        },
                        "type": "choropleth"
                      }
                    ],
                    "parcoords": [
                      {
                        "line": {
                          "colorbar": {
                            "outlinewidth": 0,
                            "ticks": ""
                          }
                        },
                        "type": "parcoords"
                      }
                    ],
                    "barpolar": [
                      {
                        "marker": {
                          "line": {
                            "color": "#E5ECF6",
                            "width": 0.5
                          }
                        },
                        "type": "barpolar"
                      }
                    ],
                    "histogram2dcontour": [
                      {
                        "colorbar": {
                          "outlinewidth": 0,
                          "ticks": ""
                        },
                        "type": "histogram2dcontour",
                        "colorscale": [
                          [
                            0,
                            "#0d0887"
                          ],
                          [
                            0.1111111111111111,
                            "#46039f"
                          ],
                          [
                            0.2222222222222222,
                            "#7201a8"
                          ],
                          [
                            0.3333333333333333,
                            "#9c179e"
                          ],
                          [
                            0.4444444444444444,
                            "#bd3786"
                          ],
                          [
                            0.5555555555555556,
                            "#d8576b"
                          ],
                          [
                            0.6666666666666666,
                            "#ed7953"
                          ],
                          [
                            0.7777777777777778,
                            "#fb9f3a"
                          ],
                          [
                            0.8888888888888888,
                            "#fdca26"
                          ],
                          [
                            1,
                            "#f0f921"
                          ]
                        ]
                      }
                    ],
                    "scatter": [
                      {
                        "marker": {
                          "colorbar": {
                            "outlinewidth": 0,
                            "ticks": ""
                          }
                        },
                        "type": "scatter"
                      }
                    ]
                  }
                }
              }
            }
          },
          "metadata": {
            "tags": []
          }
        }
      ]
    },
    {
      "cell_type": "code",
      "metadata": {
        "id": "c7MO6y-OsesI",
        "colab_type": "code",
        "outputId": "ea57e0fc-0fcf-4137-87b1-95a9d2d1a1bb",
        "colab": {
          "base_uri": "https://localhost:8080/",
          "height": 542
        }
      },
      "source": [
        "data = []\n",
        "for i in range(0, len(names)):\n",
        "    trace = go.Scatter(x=fp_[i], y=tp_[i],\n",
        "                        mode='lines', \n",
        "                        name='ROC curve {}'\n",
        "                               ''.format(names[i]))\n",
        "    data.append(trace)\n",
        "    \n",
        "layout = go.Layout(title='Receiver operating characteristic ',\n",
        "                   xaxis=dict(title='False Positive Rate'),\n",
        "                   yaxis=dict(title='True Positive Rate'))\n",
        "\n",
        "fig = go.Figure(data=data, layout=layout)\n",
        "py.iplot(fig)"
      ],
      "execution_count": 0,
      "outputs": [
        {
          "output_type": "display_data",
          "data": {
            "text/html": [
              "<div>\n",
              "        \n",
              "        \n",
              "            <div id=\"0c1c1067-733c-4f68-a91d-7d42ac4cb797\" class=\"plotly-graph-div\" style=\"height:525px; width:100%;\"></div>\n",
              "            <script type=\"text/javascript\">\n",
              "                require([\"plotly\"], function(Plotly) {\n",
              "                    window.PLOTLYENV=window.PLOTLYENV || {};\n",
              "                    \n",
              "                if (document.getElementById(\"0c1c1067-733c-4f68-a91d-7d42ac4cb797\")) {\n",
              "                    Plotly.newPlot(\n",
              "                        '0c1c1067-733c-4f68-a91d-7d42ac4cb797',\n",
              "                        [{\"mode\": \"lines\", \"name\": \"ROC curve Logistic Regression\", \"type\": \"scatter\", \"x\": [0.0, 0.12485089463220676, 1.0], \"y\": [0.0, 0.8997987927565393, 1.0]}, {\"mode\": \"lines\", \"name\": \"ROC curve Multinomial NB\", \"type\": \"scatter\", \"x\": [0.0, 0.11809145129224652, 1.0], \"y\": [0.0, 0.8784708249496982, 1.0]}, {\"mode\": \"lines\", \"name\": \"ROC curve Perceptron\", \"type\": \"scatter\", \"x\": [0.0, 0.13439363817097416, 1.0], \"y\": [0.0, 0.8913480885311871, 1.0]}],\n",
              "                        {\"template\": {\"data\": {\"bar\": [{\"error_x\": {\"color\": \"#2a3f5f\"}, \"error_y\": {\"color\": \"#2a3f5f\"}, \"marker\": {\"line\": {\"color\": \"#E5ECF6\", \"width\": 0.5}}, \"type\": \"bar\"}], \"barpolar\": [{\"marker\": {\"line\": {\"color\": \"#E5ECF6\", \"width\": 0.5}}, \"type\": \"barpolar\"}], \"carpet\": [{\"aaxis\": {\"endlinecolor\": \"#2a3f5f\", \"gridcolor\": \"white\", \"linecolor\": \"white\", \"minorgridcolor\": \"white\", \"startlinecolor\": \"#2a3f5f\"}, \"baxis\": {\"endlinecolor\": \"#2a3f5f\", \"gridcolor\": \"white\", \"linecolor\": \"white\", \"minorgridcolor\": \"white\", \"startlinecolor\": \"#2a3f5f\"}, \"type\": \"carpet\"}], \"choropleth\": [{\"colorbar\": {\"outlinewidth\": 0, \"ticks\": \"\"}, \"type\": \"choropleth\"}], \"contour\": [{\"colorbar\": {\"outlinewidth\": 0, \"ticks\": \"\"}, \"colorscale\": [[0.0, \"#0d0887\"], [0.1111111111111111, \"#46039f\"], [0.2222222222222222, \"#7201a8\"], [0.3333333333333333, \"#9c179e\"], [0.4444444444444444, \"#bd3786\"], [0.5555555555555556, \"#d8576b\"], [0.6666666666666666, \"#ed7953\"], [0.7777777777777778, \"#fb9f3a\"], [0.8888888888888888, \"#fdca26\"], [1.0, \"#f0f921\"]], \"type\": \"contour\"}], \"contourcarpet\": [{\"colorbar\": {\"outlinewidth\": 0, \"ticks\": \"\"}, \"type\": \"contourcarpet\"}], \"heatmap\": [{\"colorbar\": {\"outlinewidth\": 0, \"ticks\": \"\"}, \"colorscale\": [[0.0, \"#0d0887\"], [0.1111111111111111, \"#46039f\"], [0.2222222222222222, \"#7201a8\"], [0.3333333333333333, \"#9c179e\"], [0.4444444444444444, \"#bd3786\"], [0.5555555555555556, \"#d8576b\"], [0.6666666666666666, \"#ed7953\"], [0.7777777777777778, \"#fb9f3a\"], [0.8888888888888888, \"#fdca26\"], [1.0, \"#f0f921\"]], \"type\": \"heatmap\"}], \"heatmapgl\": [{\"colorbar\": {\"outlinewidth\": 0, \"ticks\": \"\"}, \"colorscale\": [[0.0, \"#0d0887\"], [0.1111111111111111, \"#46039f\"], [0.2222222222222222, \"#7201a8\"], [0.3333333333333333, \"#9c179e\"], [0.4444444444444444, \"#bd3786\"], [0.5555555555555556, \"#d8576b\"], [0.6666666666666666, \"#ed7953\"], [0.7777777777777778, \"#fb9f3a\"], [0.8888888888888888, \"#fdca26\"], [1.0, \"#f0f921\"]], \"type\": \"heatmapgl\"}], \"histogram\": [{\"marker\": {\"colorbar\": {\"outlinewidth\": 0, \"ticks\": \"\"}}, \"type\": \"histogram\"}], \"histogram2d\": [{\"colorbar\": {\"outlinewidth\": 0, \"ticks\": \"\"}, \"colorscale\": [[0.0, \"#0d0887\"], [0.1111111111111111, \"#46039f\"], [0.2222222222222222, \"#7201a8\"], [0.3333333333333333, \"#9c179e\"], [0.4444444444444444, \"#bd3786\"], [0.5555555555555556, \"#d8576b\"], [0.6666666666666666, \"#ed7953\"], [0.7777777777777778, \"#fb9f3a\"], [0.8888888888888888, \"#fdca26\"], [1.0, \"#f0f921\"]], \"type\": \"histogram2d\"}], \"histogram2dcontour\": [{\"colorbar\": {\"outlinewidth\": 0, \"ticks\": \"\"}, \"colorscale\": [[0.0, \"#0d0887\"], [0.1111111111111111, \"#46039f\"], [0.2222222222222222, \"#7201a8\"], [0.3333333333333333, \"#9c179e\"], [0.4444444444444444, \"#bd3786\"], [0.5555555555555556, \"#d8576b\"], [0.6666666666666666, \"#ed7953\"], [0.7777777777777778, \"#fb9f3a\"], [0.8888888888888888, \"#fdca26\"], [1.0, \"#f0f921\"]], \"type\": \"histogram2dcontour\"}], \"mesh3d\": [{\"colorbar\": {\"outlinewidth\": 0, \"ticks\": \"\"}, \"type\": \"mesh3d\"}], \"parcoords\": [{\"line\": {\"colorbar\": {\"outlinewidth\": 0, \"ticks\": \"\"}}, \"type\": \"parcoords\"}], \"pie\": [{\"automargin\": true, \"type\": \"pie\"}], \"scatter\": [{\"marker\": {\"colorbar\": {\"outlinewidth\": 0, \"ticks\": \"\"}}, \"type\": \"scatter\"}], \"scatter3d\": [{\"line\": {\"colorbar\": {\"outlinewidth\": 0, \"ticks\": \"\"}}, \"marker\": {\"colorbar\": {\"outlinewidth\": 0, \"ticks\": \"\"}}, \"type\": \"scatter3d\"}], \"scattercarpet\": [{\"marker\": {\"colorbar\": {\"outlinewidth\": 0, \"ticks\": \"\"}}, \"type\": \"scattercarpet\"}], \"scattergeo\": [{\"marker\": {\"colorbar\": {\"outlinewidth\": 0, \"ticks\": \"\"}}, \"type\": \"scattergeo\"}], \"scattergl\": [{\"marker\": {\"colorbar\": {\"outlinewidth\": 0, \"ticks\": \"\"}}, \"type\": \"scattergl\"}], \"scattermapbox\": [{\"marker\": {\"colorbar\": {\"outlinewidth\": 0, \"ticks\": \"\"}}, \"type\": \"scattermapbox\"}], \"scatterpolar\": [{\"marker\": {\"colorbar\": {\"outlinewidth\": 0, \"ticks\": \"\"}}, \"type\": \"scatterpolar\"}], \"scatterpolargl\": [{\"marker\": {\"colorbar\": {\"outlinewidth\": 0, \"ticks\": \"\"}}, \"type\": \"scatterpolargl\"}], \"scatterternary\": [{\"marker\": {\"colorbar\": {\"outlinewidth\": 0, \"ticks\": \"\"}}, \"type\": \"scatterternary\"}], \"surface\": [{\"colorbar\": {\"outlinewidth\": 0, \"ticks\": \"\"}, \"colorscale\": [[0.0, \"#0d0887\"], [0.1111111111111111, \"#46039f\"], [0.2222222222222222, \"#7201a8\"], [0.3333333333333333, \"#9c179e\"], [0.4444444444444444, \"#bd3786\"], [0.5555555555555556, \"#d8576b\"], [0.6666666666666666, \"#ed7953\"], [0.7777777777777778, \"#fb9f3a\"], [0.8888888888888888, \"#fdca26\"], [1.0, \"#f0f921\"]], \"type\": \"surface\"}], \"table\": [{\"cells\": {\"fill\": {\"color\": \"#EBF0F8\"}, \"line\": {\"color\": \"white\"}}, \"header\": {\"fill\": {\"color\": \"#C8D4E3\"}, \"line\": {\"color\": \"white\"}}, \"type\": \"table\"}]}, \"layout\": {\"annotationdefaults\": {\"arrowcolor\": \"#2a3f5f\", \"arrowhead\": 0, \"arrowwidth\": 1}, \"coloraxis\": {\"colorbar\": {\"outlinewidth\": 0, \"ticks\": \"\"}}, \"colorscale\": {\"diverging\": [[0, \"#8e0152\"], [0.1, \"#c51b7d\"], [0.2, \"#de77ae\"], [0.3, \"#f1b6da\"], [0.4, \"#fde0ef\"], [0.5, \"#f7f7f7\"], [0.6, \"#e6f5d0\"], [0.7, \"#b8e186\"], [0.8, \"#7fbc41\"], [0.9, \"#4d9221\"], [1, \"#276419\"]], \"sequential\": [[0.0, \"#0d0887\"], [0.1111111111111111, \"#46039f\"], [0.2222222222222222, \"#7201a8\"], [0.3333333333333333, \"#9c179e\"], [0.4444444444444444, \"#bd3786\"], [0.5555555555555556, \"#d8576b\"], [0.6666666666666666, \"#ed7953\"], [0.7777777777777778, \"#fb9f3a\"], [0.8888888888888888, \"#fdca26\"], [1.0, \"#f0f921\"]], \"sequentialminus\": [[0.0, \"#0d0887\"], [0.1111111111111111, \"#46039f\"], [0.2222222222222222, \"#7201a8\"], [0.3333333333333333, \"#9c179e\"], [0.4444444444444444, \"#bd3786\"], [0.5555555555555556, \"#d8576b\"], [0.6666666666666666, \"#ed7953\"], [0.7777777777777778, \"#fb9f3a\"], [0.8888888888888888, \"#fdca26\"], [1.0, \"#f0f921\"]]}, \"colorway\": [\"#636efa\", \"#EF553B\", \"#00cc96\", \"#ab63fa\", \"#FFA15A\", \"#19d3f3\", \"#FF6692\", \"#B6E880\", \"#FF97FF\", \"#FECB52\"], \"font\": {\"color\": \"#2a3f5f\"}, \"geo\": {\"bgcolor\": \"white\", \"lakecolor\": \"white\", \"landcolor\": \"#E5ECF6\", \"showlakes\": true, \"showland\": true, \"subunitcolor\": \"white\"}, \"hoverlabel\": {\"align\": \"left\"}, \"hovermode\": \"closest\", \"mapbox\": {\"style\": \"light\"}, \"paper_bgcolor\": \"white\", \"plot_bgcolor\": \"#E5ECF6\", \"polar\": {\"angularaxis\": {\"gridcolor\": \"white\", \"linecolor\": \"white\", \"ticks\": \"\"}, \"bgcolor\": \"#E5ECF6\", \"radialaxis\": {\"gridcolor\": \"white\", \"linecolor\": \"white\", \"ticks\": \"\"}}, \"scene\": {\"xaxis\": {\"backgroundcolor\": \"#E5ECF6\", \"gridcolor\": \"white\", \"gridwidth\": 2, \"linecolor\": \"white\", \"showbackground\": true, \"ticks\": \"\", \"zerolinecolor\": \"white\"}, \"yaxis\": {\"backgroundcolor\": \"#E5ECF6\", \"gridcolor\": \"white\", \"gridwidth\": 2, \"linecolor\": \"white\", \"showbackground\": true, \"ticks\": \"\", \"zerolinecolor\": \"white\"}, \"zaxis\": {\"backgroundcolor\": \"#E5ECF6\", \"gridcolor\": \"white\", \"gridwidth\": 2, \"linecolor\": \"white\", \"showbackground\": true, \"ticks\": \"\", \"zerolinecolor\": \"white\"}}, \"shapedefaults\": {\"line\": {\"color\": \"#2a3f5f\"}}, \"ternary\": {\"aaxis\": {\"gridcolor\": \"white\", \"linecolor\": \"white\", \"ticks\": \"\"}, \"baxis\": {\"gridcolor\": \"white\", \"linecolor\": \"white\", \"ticks\": \"\"}, \"bgcolor\": \"#E5ECF6\", \"caxis\": {\"gridcolor\": \"white\", \"linecolor\": \"white\", \"ticks\": \"\"}}, \"title\": {\"x\": 0.05}, \"xaxis\": {\"automargin\": true, \"gridcolor\": \"white\", \"linecolor\": \"white\", \"ticks\": \"\", \"title\": {\"standoff\": 15}, \"zerolinecolor\": \"white\", \"zerolinewidth\": 2}, \"yaxis\": {\"automargin\": true, \"gridcolor\": \"white\", \"linecolor\": \"white\", \"ticks\": \"\", \"title\": {\"standoff\": 15}, \"zerolinecolor\": \"white\", \"zerolinewidth\": 2}}}, \"title\": {\"text\": \"Receiver operating characteristic \"}, \"xaxis\": {\"title\": {\"text\": \"False Positive Rate\"}}, \"yaxis\": {\"title\": {\"text\": \"True Positive Rate\"}}},\n",
              "                        {\"responsive\": true}\n",
              "                    ).then(function(){\n",
              "                            \n",
              "var gd = document.getElementById('0c1c1067-733c-4f68-a91d-7d42ac4cb797');\n",
              "var x = new MutationObserver(function (mutations, observer) {{\n",
              "        var display = window.getComputedStyle(gd).display;\n",
              "        if (!display || display === 'none') {{\n",
              "            console.log([gd, 'removed!']);\n",
              "            Plotly.purge(gd);\n",
              "            observer.disconnect();\n",
              "        }}\n",
              "}});\n",
              "\n",
              "// Listen for the removal of the full notebook cells\n",
              "var notebookContainer = gd.closest('#notebook-container');\n",
              "if (notebookContainer) {{\n",
              "    x.observe(notebookContainer, {childList: true});\n",
              "}}\n",
              "\n",
              "// Listen for the clearing of the current output cell\n",
              "var outputEl = gd.closest('.output');\n",
              "if (outputEl) {{\n",
              "    x.observe(outputEl, {childList: true});\n",
              "}}\n",
              "\n",
              "                        })\n",
              "                };\n",
              "                });\n",
              "            </script>\n",
              "        </div>"
            ],
            "application/vnd.plotly.v1+json": {
              "data": [
                {
                  "y": [
                    0,
                    0.8997987927565393,
                    1
                  ],
                  "x": [
                    0,
                    0.12485089463220676,
                    1
                  ],
                  "type": "scatter",
                  "mode": "lines",
                  "name": "ROC curve Logistic Regression"
                },
                {
                  "y": [
                    0,
                    0.8784708249496982,
                    1
                  ],
                  "x": [
                    0,
                    0.11809145129224652,
                    1
                  ],
                  "type": "scatter",
                  "mode": "lines",
                  "name": "ROC curve Multinomial NB"
                },
                {
                  "y": [
                    0,
                    0.8913480885311871,
                    1
                  ],
                  "x": [
                    0,
                    0.13439363817097416,
                    1
                  ],
                  "type": "scatter",
                  "mode": "lines",
                  "name": "ROC curve Perceptron"
                }
              ],
              "config": {
                "plotlyServerURL": "https://plot.ly",
                "linkText": "Export to plot.ly",
                "showLink": false
              },
              "layout": {
                "yaxis": {
                  "title": {
                    "text": "True Positive Rate"
                  }
                },
                "xaxis": {
                  "title": {
                    "text": "False Positive Rate"
                  }
                },
                "template": {
                  "layout": {
                    "shapedefaults": {
                      "line": {
                        "color": "#2a3f5f"
                      }
                    },
                    "polar": {
                      "radialaxis": {
                        "ticks": "",
                        "gridcolor": "white",
                        "linecolor": "white"
                      },
                      "bgcolor": "#E5ECF6",
                      "angularaxis": {
                        "ticks": "",
                        "gridcolor": "white",
                        "linecolor": "white"
                      }
                    },
                    "colorway": [
                      "#636efa",
                      "#EF553B",
                      "#00cc96",
                      "#ab63fa",
                      "#FFA15A",
                      "#19d3f3",
                      "#FF6692",
                      "#B6E880",
                      "#FF97FF",
                      "#FECB52"
                    ],
                    "xaxis": {
                      "automargin": true,
                      "title": {
                        "standoff": 15
                      },
                      "zerolinewidth": 2,
                      "ticks": "",
                      "zerolinecolor": "white",
                      "gridcolor": "white",
                      "linecolor": "white"
                    },
                    "colorscale": {
                      "diverging": [
                        [
                          0,
                          "#8e0152"
                        ],
                        [
                          0.1,
                          "#c51b7d"
                        ],
                        [
                          0.2,
                          "#de77ae"
                        ],
                        [
                          0.3,
                          "#f1b6da"
                        ],
                        [
                          0.4,
                          "#fde0ef"
                        ],
                        [
                          0.5,
                          "#f7f7f7"
                        ],
                        [
                          0.6,
                          "#e6f5d0"
                        ],
                        [
                          0.7,
                          "#b8e186"
                        ],
                        [
                          0.8,
                          "#7fbc41"
                        ],
                        [
                          0.9,
                          "#4d9221"
                        ],
                        [
                          1,
                          "#276419"
                        ]
                      ],
                      "sequential": [
                        [
                          0,
                          "#0d0887"
                        ],
                        [
                          0.1111111111111111,
                          "#46039f"
                        ],
                        [
                          0.2222222222222222,
                          "#7201a8"
                        ],
                        [
                          0.3333333333333333,
                          "#9c179e"
                        ],
                        [
                          0.4444444444444444,
                          "#bd3786"
                        ],
                        [
                          0.5555555555555556,
                          "#d8576b"
                        ],
                        [
                          0.6666666666666666,
                          "#ed7953"
                        ],
                        [
                          0.7777777777777778,
                          "#fb9f3a"
                        ],
                        [
                          0.8888888888888888,
                          "#fdca26"
                        ],
                        [
                          1,
                          "#f0f921"
                        ]
                      ],
                      "sequentialminus": [
                        [
                          0,
                          "#0d0887"
                        ],
                        [
                          0.1111111111111111,
                          "#46039f"
                        ],
                        [
                          0.2222222222222222,
                          "#7201a8"
                        ],
                        [
                          0.3333333333333333,
                          "#9c179e"
                        ],
                        [
                          0.4444444444444444,
                          "#bd3786"
                        ],
                        [
                          0.5555555555555556,
                          "#d8576b"
                        ],
                        [
                          0.6666666666666666,
                          "#ed7953"
                        ],
                        [
                          0.7777777777777778,
                          "#fb9f3a"
                        ],
                        [
                          0.8888888888888888,
                          "#fdca26"
                        ],
                        [
                          1,
                          "#f0f921"
                        ]
                      ]
                    },
                    "paper_bgcolor": "white",
                    "plot_bgcolor": "#E5ECF6",
                    "title": {
                      "x": 0.05
                    },
                    "scene": {
                      "zaxis": {
                        "backgroundcolor": "#E5ECF6",
                        "ticks": "",
                        "gridwidth": 2,
                        "showbackground": true,
                        "zerolinecolor": "white",
                        "gridcolor": "white",
                        "linecolor": "white"
                      },
                      "xaxis": {
                        "backgroundcolor": "#E5ECF6",
                        "ticks": "",
                        "gridwidth": 2,
                        "showbackground": true,
                        "zerolinecolor": "white",
                        "gridcolor": "white",
                        "linecolor": "white"
                      },
                      "yaxis": {
                        "backgroundcolor": "#E5ECF6",
                        "ticks": "",
                        "gridwidth": 2,
                        "showbackground": true,
                        "zerolinecolor": "white",
                        "gridcolor": "white",
                        "linecolor": "white"
                      }
                    },
                    "yaxis": {
                      "automargin": true,
                      "title": {
                        "standoff": 15
                      },
                      "zerolinewidth": 2,
                      "ticks": "",
                      "zerolinecolor": "white",
                      "gridcolor": "white",
                      "linecolor": "white"
                    },
                    "annotationdefaults": {
                      "arrowwidth": 1,
                      "arrowhead": 0,
                      "arrowcolor": "#2a3f5f"
                    },
                    "hoverlabel": {
                      "align": "left"
                    },
                    "ternary": {
                      "bgcolor": "#E5ECF6",
                      "baxis": {
                        "ticks": "",
                        "gridcolor": "white",
                        "linecolor": "white"
                      },
                      "caxis": {
                        "ticks": "",
                        "gridcolor": "white",
                        "linecolor": "white"
                      },
                      "aaxis": {
                        "ticks": "",
                        "gridcolor": "white",
                        "linecolor": "white"
                      }
                    },
                    "mapbox": {
                      "style": "light"
                    },
                    "hovermode": "closest",
                    "font": {
                      "color": "#2a3f5f"
                    },
                    "geo": {
                      "showland": true,
                      "landcolor": "#E5ECF6",
                      "showlakes": true,
                      "bgcolor": "white",
                      "subunitcolor": "white",
                      "lakecolor": "white"
                    },
                    "coloraxis": {
                      "colorbar": {
                        "outlinewidth": 0,
                        "ticks": ""
                      }
                    }
                  },
                  "data": {
                    "mesh3d": [
                      {
                        "colorbar": {
                          "outlinewidth": 0,
                          "ticks": ""
                        },
                        "type": "mesh3d"
                      }
                    ],
                    "scattercarpet": [
                      {
                        "marker": {
                          "colorbar": {
                            "outlinewidth": 0,
                            "ticks": ""
                          }
                        },
                        "type": "scattercarpet"
                      }
                    ],
                    "pie": [
                      {
                        "automargin": true,
                        "type": "pie"
                      }
                    ],
                    "surface": [
                      {
                        "colorbar": {
                          "outlinewidth": 0,
                          "ticks": ""
                        },
                        "type": "surface",
                        "colorscale": [
                          [
                            0,
                            "#0d0887"
                          ],
                          [
                            0.1111111111111111,
                            "#46039f"
                          ],
                          [
                            0.2222222222222222,
                            "#7201a8"
                          ],
                          [
                            0.3333333333333333,
                            "#9c179e"
                          ],
                          [
                            0.4444444444444444,
                            "#bd3786"
                          ],
                          [
                            0.5555555555555556,
                            "#d8576b"
                          ],
                          [
                            0.6666666666666666,
                            "#ed7953"
                          ],
                          [
                            0.7777777777777778,
                            "#fb9f3a"
                          ],
                          [
                            0.8888888888888888,
                            "#fdca26"
                          ],
                          [
                            1,
                            "#f0f921"
                          ]
                        ]
                      }
                    ],
                    "table": [
                      {
                        "header": {
                          "line": {
                            "color": "white"
                          },
                          "fill": {
                            "color": "#C8D4E3"
                          }
                        },
                        "cells": {
                          "line": {
                            "color": "white"
                          },
                          "fill": {
                            "color": "#EBF0F8"
                          }
                        },
                        "type": "table"
                      }
                    ],
                    "scatterpolargl": [
                      {
                        "marker": {
                          "colorbar": {
                            "outlinewidth": 0,
                            "ticks": ""
                          }
                        },
                        "type": "scatterpolargl"
                      }
                    ],
                    "contour": [
                      {
                        "colorbar": {
                          "outlinewidth": 0,
                          "ticks": ""
                        },
                        "type": "contour",
                        "colorscale": [
                          [
                            0,
                            "#0d0887"
                          ],
                          [
                            0.1111111111111111,
                            "#46039f"
                          ],
                          [
                            0.2222222222222222,
                            "#7201a8"
                          ],
                          [
                            0.3333333333333333,
                            "#9c179e"
                          ],
                          [
                            0.4444444444444444,
                            "#bd3786"
                          ],
                          [
                            0.5555555555555556,
                            "#d8576b"
                          ],
                          [
                            0.6666666666666666,
                            "#ed7953"
                          ],
                          [
                            0.7777777777777778,
                            "#fb9f3a"
                          ],
                          [
                            0.8888888888888888,
                            "#fdca26"
                          ],
                          [
                            1,
                            "#f0f921"
                          ]
                        ]
                      }
                    ],
                    "carpet": [
                      {
                        "type": "carpet",
                        "baxis": {
                          "minorgridcolor": "white",
                          "gridcolor": "white",
                          "linecolor": "white",
                          "endlinecolor": "#2a3f5f",
                          "startlinecolor": "#2a3f5f"
                        },
                        "aaxis": {
                          "minorgridcolor": "white",
                          "gridcolor": "white",
                          "linecolor": "white",
                          "endlinecolor": "#2a3f5f",
                          "startlinecolor": "#2a3f5f"
                        }
                      }
                    ],
                    "contourcarpet": [
                      {
                        "colorbar": {
                          "outlinewidth": 0,
                          "ticks": ""
                        },
                        "type": "contourcarpet"
                      }
                    ],
                    "heatmap": [
                      {
                        "colorbar": {
                          "outlinewidth": 0,
                          "ticks": ""
                        },
                        "type": "heatmap",
                        "colorscale": [
                          [
                            0,
                            "#0d0887"
                          ],
                          [
                            0.1111111111111111,
                            "#46039f"
                          ],
                          [
                            0.2222222222222222,
                            "#7201a8"
                          ],
                          [
                            0.3333333333333333,
                            "#9c179e"
                          ],
                          [
                            0.4444444444444444,
                            "#bd3786"
                          ],
                          [
                            0.5555555555555556,
                            "#d8576b"
                          ],
                          [
                            0.6666666666666666,
                            "#ed7953"
                          ],
                          [
                            0.7777777777777778,
                            "#fb9f3a"
                          ],
                          [
                            0.8888888888888888,
                            "#fdca26"
                          ],
                          [
                            1,
                            "#f0f921"
                          ]
                        ]
                      }
                    ],
                    "scattermapbox": [
                      {
                        "marker": {
                          "colorbar": {
                            "outlinewidth": 0,
                            "ticks": ""
                          }
                        },
                        "type": "scattermapbox"
                      }
                    ],
                    "scatter3d": [
                      {
                        "marker": {
                          "colorbar": {
                            "outlinewidth": 0,
                            "ticks": ""
                          }
                        },
                        "line": {
                          "colorbar": {
                            "outlinewidth": 0,
                            "ticks": ""
                          }
                        },
                        "type": "scatter3d"
                      }
                    ],
                    "scattergl": [
                      {
                        "marker": {
                          "colorbar": {
                            "outlinewidth": 0,
                            "ticks": ""
                          }
                        },
                        "type": "scattergl"
                      }
                    ],
                    "scatterternary": [
                      {
                        "marker": {
                          "colorbar": {
                            "outlinewidth": 0,
                            "ticks": ""
                          }
                        },
                        "type": "scatterternary"
                      }
                    ],
                    "histogram": [
                      {
                        "marker": {
                          "colorbar": {
                            "outlinewidth": 0,
                            "ticks": ""
                          }
                        },
                        "type": "histogram"
                      }
                    ],
                    "heatmapgl": [
                      {
                        "colorbar": {
                          "outlinewidth": 0,
                          "ticks": ""
                        },
                        "type": "heatmapgl",
                        "colorscale": [
                          [
                            0,
                            "#0d0887"
                          ],
                          [
                            0.1111111111111111,
                            "#46039f"
                          ],
                          [
                            0.2222222222222222,
                            "#7201a8"
                          ],
                          [
                            0.3333333333333333,
                            "#9c179e"
                          ],
                          [
                            0.4444444444444444,
                            "#bd3786"
                          ],
                          [
                            0.5555555555555556,
                            "#d8576b"
                          ],
                          [
                            0.6666666666666666,
                            "#ed7953"
                          ],
                          [
                            0.7777777777777778,
                            "#fb9f3a"
                          ],
                          [
                            0.8888888888888888,
                            "#fdca26"
                          ],
                          [
                            1,
                            "#f0f921"
                          ]
                        ]
                      }
                    ],
                    "scatterpolar": [
                      {
                        "marker": {
                          "colorbar": {
                            "outlinewidth": 0,
                            "ticks": ""
                          }
                        },
                        "type": "scatterpolar"
                      }
                    ],
                    "histogram2d": [
                      {
                        "colorbar": {
                          "outlinewidth": 0,
                          "ticks": ""
                        },
                        "type": "histogram2d",
                        "colorscale": [
                          [
                            0,
                            "#0d0887"
                          ],
                          [
                            0.1111111111111111,
                            "#46039f"
                          ],
                          [
                            0.2222222222222222,
                            "#7201a8"
                          ],
                          [
                            0.3333333333333333,
                            "#9c179e"
                          ],
                          [
                            0.4444444444444444,
                            "#bd3786"
                          ],
                          [
                            0.5555555555555556,
                            "#d8576b"
                          ],
                          [
                            0.6666666666666666,
                            "#ed7953"
                          ],
                          [
                            0.7777777777777778,
                            "#fb9f3a"
                          ],
                          [
                            0.8888888888888888,
                            "#fdca26"
                          ],
                          [
                            1,
                            "#f0f921"
                          ]
                        ]
                      }
                    ],
                    "scattergeo": [
                      {
                        "marker": {
                          "colorbar": {
                            "outlinewidth": 0,
                            "ticks": ""
                          }
                        },
                        "type": "scattergeo"
                      }
                    ],
                    "bar": [
                      {
                        "marker": {
                          "line": {
                            "color": "#E5ECF6",
                            "width": 0.5
                          }
                        },
                        "type": "bar",
                        "error_x": {
                          "color": "#2a3f5f"
                        },
                        "error_y": {
                          "color": "#2a3f5f"
                        }
                      }
                    ],
                    "choropleth": [
                      {
                        "colorbar": {
                          "outlinewidth": 0,
                          "ticks": ""
                        },
                        "type": "choropleth"
                      }
                    ],
                    "parcoords": [
                      {
                        "line": {
                          "colorbar": {
                            "outlinewidth": 0,
                            "ticks": ""
                          }
                        },
                        "type": "parcoords"
                      }
                    ],
                    "barpolar": [
                      {
                        "marker": {
                          "line": {
                            "color": "#E5ECF6",
                            "width": 0.5
                          }
                        },
                        "type": "barpolar"
                      }
                    ],
                    "histogram2dcontour": [
                      {
                        "colorbar": {
                          "outlinewidth": 0,
                          "ticks": ""
                        },
                        "type": "histogram2dcontour",
                        "colorscale": [
                          [
                            0,
                            "#0d0887"
                          ],
                          [
                            0.1111111111111111,
                            "#46039f"
                          ],
                          [
                            0.2222222222222222,
                            "#7201a8"
                          ],
                          [
                            0.3333333333333333,
                            "#9c179e"
                          ],
                          [
                            0.4444444444444444,
                            "#bd3786"
                          ],
                          [
                            0.5555555555555556,
                            "#d8576b"
                          ],
                          [
                            0.6666666666666666,
                            "#ed7953"
                          ],
                          [
                            0.7777777777777778,
                            "#fb9f3a"
                          ],
                          [
                            0.8888888888888888,
                            "#fdca26"
                          ],
                          [
                            1,
                            "#f0f921"
                          ]
                        ]
                      }
                    ],
                    "scatter": [
                      {
                        "marker": {
                          "colorbar": {
                            "outlinewidth": 0,
                            "ticks": ""
                          }
                        },
                        "type": "scatter"
                      }
                    ]
                  }
                },
                "title": {
                  "text": "Receiver operating characteristic "
                }
              }
            }
          },
          "metadata": {
            "tags": []
          }
        }
      ]
    },
    {
      "cell_type": "markdown",
      "metadata": {
        "id": "DX7MJ1SesesO",
        "colab_type": "text"
      },
      "source": [
        "## 4.1 N-grams\n",
        "Capture the language structure, like what letter or word is likely to follow the given one"
      ]
    },
    {
      "cell_type": "code",
      "metadata": {
        "id": "PCl_n3VusesQ",
        "colab_type": "code",
        "outputId": "23f426d4-5559-4def-9100-a1f295f3572c",
        "colab": {}
      },
      "source": [
        "TextBlob(data['SentimentText'][0]).ngrams(2)"
      ],
      "execution_count": 0,
      "outputs": [
        {
          "output_type": "error",
          "ename": "TypeError",
          "evalue": "list indices must be integers or slices, not str",
          "traceback": [
            "\u001b[1;31m---------------------------------------------------------------------------\u001b[0m",
            "\u001b[1;31mTypeError\u001b[0m                                 Traceback (most recent call last)",
            "\u001b[1;32m<ipython-input-131-a03c11f14908>\u001b[0m in \u001b[0;36m<module>\u001b[1;34m\u001b[0m\n\u001b[1;32m----> 1\u001b[1;33m \u001b[0mTextBlob\u001b[0m\u001b[1;33m(\u001b[0m\u001b[0mdata\u001b[0m\u001b[1;33m[\u001b[0m\u001b[1;34m'SentimentText'\u001b[0m\u001b[1;33m]\u001b[0m\u001b[1;33m[\u001b[0m\u001b[1;36m0\u001b[0m\u001b[1;33m]\u001b[0m\u001b[1;33m)\u001b[0m\u001b[1;33m.\u001b[0m\u001b[0mngrams\u001b[0m\u001b[1;33m(\u001b[0m\u001b[1;36m2\u001b[0m\u001b[1;33m)\u001b[0m\u001b[1;33m\u001b[0m\u001b[1;33m\u001b[0m\u001b[0m\n\u001b[0m",
            "\u001b[1;31mTypeError\u001b[0m: list indices must be integers or slices, not str"
          ]
        }
      ]
    },
    {
      "cell_type": "markdown",
      "metadata": {
        "id": "iLtQH11usesT",
        "colab_type": "text"
      },
      "source": [
        "## 4.2 Term frequency - dopracowac\n",
        "TF = (Number of times term T appears in the particular row) / (number of terms in that row)"
      ]
    },
    {
      "cell_type": "code",
      "metadata": {
        "id": "d_nG96jWsesU",
        "colab_type": "code",
        "colab": {}
      },
      "source": [
        "#tf1 = (data['SentimentText'][1:2]).apply(lambda x: pd.value_counts(x.split(\" \"))).sum(axis = 0).reset_index\n",
        "#tf1"
      ],
      "execution_count": 0,
      "outputs": []
    },
    {
      "cell_type": "markdown",
      "metadata": {
        "id": "5MnCk0qQsesX",
        "colab_type": "text"
      },
      "source": [
        "## 4.3 Inverse Document Frequency - dopracowac\n",
        "IDF = log(N/n), where, N is the total number of rows and n is the number of rows in which the word was present."
      ]
    },
    {
      "cell_type": "code",
      "metadata": {
        "id": "4hBQ73JKsesZ",
        "colab_type": "code",
        "colab": {}
      },
      "source": [
        "#for i,word in enumerate(tf1['words']):\n",
        "#  tf1.loc[i, 'idf'] = np.log(data.shape[0]/(len(data[data['SentimentText'].str.contains(word)])))\n",
        "#\n",
        "#tf1"
      ],
      "execution_count": 0,
      "outputs": []
    },
    {
      "cell_type": "code",
      "metadata": {
        "id": "jCoNVqiEsesd",
        "colab_type": "code",
        "colab": {}
      },
      "source": [
        ""
      ],
      "execution_count": 0,
      "outputs": []
    },
    {
      "cell_type": "markdown",
      "metadata": {
        "id": "eAVeq3YjGpVw",
        "colab_type": "text"
      },
      "source": [
        "# 5. Another aproch"
      ]
    },
    {
      "cell_type": "markdown",
      "metadata": {
        "id": "wlJk5xeqGwjS",
        "colab_type": "text"
      },
      "source": [
        "# 5.1 Lemmatise text"
      ]
    },
    {
      "cell_type": "code",
      "metadata": {
        "id": "1as_0CGrG02E",
        "colab_type": "code",
        "colab": {
          "base_uri": "https://localhost:8080/",
          "height": 510
        },
        "outputId": "462b870d-2f84-4ca4-db11-9d4021859fc7"
      },
      "source": [
        "def keep_token(t):\n",
        "    return (t.is_alpha and \n",
        "            not (t.is_space or t.is_punct or \n",
        "                 t.is_stop or t.like_num))\n",
        "\n",
        "def lemmatize_doc(doc):\n",
        "    return [ t.lemma_ for t in doc if keep_token(t)]\n",
        "\n",
        "docs = [lemmatize_doc(sp(doc)) for doc in data['SentimentText']]"
      ],
      "execution_count": 29,
      "outputs": [
        {
          "output_type": "error",
          "ename": "KeyboardInterrupt",
          "evalue": "ignored",
          "traceback": [
            "\u001b[0;31m---------------------------------------------------------------------------\u001b[0m",
            "\u001b[0;31mKeyboardInterrupt\u001b[0m                         Traceback (most recent call last)",
            "\u001b[0;32m<ipython-input-29-43cd8f065492>\u001b[0m in \u001b[0;36m<module>\u001b[0;34m()\u001b[0m\n\u001b[1;32m      7\u001b[0m     \u001b[0;32mreturn\u001b[0m \u001b[0;34m[\u001b[0m \u001b[0mt\u001b[0m\u001b[0;34m.\u001b[0m\u001b[0mlemma_\u001b[0m \u001b[0;32mfor\u001b[0m \u001b[0mt\u001b[0m \u001b[0;32min\u001b[0m \u001b[0mdoc\u001b[0m \u001b[0;32mif\u001b[0m \u001b[0mkeep_token\u001b[0m\u001b[0;34m(\u001b[0m\u001b[0mt\u001b[0m\u001b[0;34m)\u001b[0m\u001b[0;34m]\u001b[0m\u001b[0;34m\u001b[0m\u001b[0;34m\u001b[0m\u001b[0m\n\u001b[1;32m      8\u001b[0m \u001b[0;34m\u001b[0m\u001b[0m\n\u001b[0;32m----> 9\u001b[0;31m \u001b[0mdocs\u001b[0m \u001b[0;34m=\u001b[0m \u001b[0;34m[\u001b[0m\u001b[0mlemmatize_doc\u001b[0m\u001b[0;34m(\u001b[0m\u001b[0msp\u001b[0m\u001b[0;34m(\u001b[0m\u001b[0mdoc\u001b[0m\u001b[0;34m)\u001b[0m\u001b[0;34m)\u001b[0m \u001b[0;32mfor\u001b[0m \u001b[0mdoc\u001b[0m \u001b[0;32min\u001b[0m \u001b[0mdata\u001b[0m\u001b[0;34m[\u001b[0m\u001b[0;34m'SentimentText'\u001b[0m\u001b[0;34m]\u001b[0m\u001b[0;34m]\u001b[0m\u001b[0;34m\u001b[0m\u001b[0;34m\u001b[0m\u001b[0m\n\u001b[0m",
            "\u001b[0;32m<ipython-input-29-43cd8f065492>\u001b[0m in \u001b[0;36m<listcomp>\u001b[0;34m(.0)\u001b[0m\n\u001b[1;32m      7\u001b[0m     \u001b[0;32mreturn\u001b[0m \u001b[0;34m[\u001b[0m \u001b[0mt\u001b[0m\u001b[0;34m.\u001b[0m\u001b[0mlemma_\u001b[0m \u001b[0;32mfor\u001b[0m \u001b[0mt\u001b[0m \u001b[0;32min\u001b[0m \u001b[0mdoc\u001b[0m \u001b[0;32mif\u001b[0m \u001b[0mkeep_token\u001b[0m\u001b[0;34m(\u001b[0m\u001b[0mt\u001b[0m\u001b[0;34m)\u001b[0m\u001b[0;34m]\u001b[0m\u001b[0;34m\u001b[0m\u001b[0;34m\u001b[0m\u001b[0m\n\u001b[1;32m      8\u001b[0m \u001b[0;34m\u001b[0m\u001b[0m\n\u001b[0;32m----> 9\u001b[0;31m \u001b[0mdocs\u001b[0m \u001b[0;34m=\u001b[0m \u001b[0;34m[\u001b[0m\u001b[0mlemmatize_doc\u001b[0m\u001b[0;34m(\u001b[0m\u001b[0msp\u001b[0m\u001b[0;34m(\u001b[0m\u001b[0mdoc\u001b[0m\u001b[0;34m)\u001b[0m\u001b[0;34m)\u001b[0m \u001b[0;32mfor\u001b[0m \u001b[0mdoc\u001b[0m \u001b[0;32min\u001b[0m \u001b[0mdata\u001b[0m\u001b[0;34m[\u001b[0m\u001b[0;34m'SentimentText'\u001b[0m\u001b[0;34m]\u001b[0m\u001b[0;34m]\u001b[0m\u001b[0;34m\u001b[0m\u001b[0;34m\u001b[0m\u001b[0m\n\u001b[0m",
            "\u001b[0;32m/usr/local/lib/python3.6/dist-packages/spacy/language.py\u001b[0m in \u001b[0;36m__call__\u001b[0;34m(self, text, disable, component_cfg)\u001b[0m\n\u001b[1;32m    392\u001b[0m                 \u001b[0mErrors\u001b[0m\u001b[0;34m.\u001b[0m\u001b[0mE088\u001b[0m\u001b[0;34m.\u001b[0m\u001b[0mformat\u001b[0m\u001b[0;34m(\u001b[0m\u001b[0mlength\u001b[0m\u001b[0;34m=\u001b[0m\u001b[0mlen\u001b[0m\u001b[0;34m(\u001b[0m\u001b[0mtext\u001b[0m\u001b[0;34m)\u001b[0m\u001b[0;34m,\u001b[0m \u001b[0mmax_length\u001b[0m\u001b[0;34m=\u001b[0m\u001b[0mself\u001b[0m\u001b[0;34m.\u001b[0m\u001b[0mmax_length\u001b[0m\u001b[0;34m)\u001b[0m\u001b[0;34m\u001b[0m\u001b[0;34m\u001b[0m\u001b[0m\n\u001b[1;32m    393\u001b[0m             )\n\u001b[0;32m--> 394\u001b[0;31m         \u001b[0mdoc\u001b[0m \u001b[0;34m=\u001b[0m \u001b[0mself\u001b[0m\u001b[0;34m.\u001b[0m\u001b[0mmake_doc\u001b[0m\u001b[0;34m(\u001b[0m\u001b[0mtext\u001b[0m\u001b[0;34m)\u001b[0m\u001b[0;34m\u001b[0m\u001b[0;34m\u001b[0m\u001b[0m\n\u001b[0m\u001b[1;32m    395\u001b[0m         \u001b[0;32mif\u001b[0m \u001b[0mcomponent_cfg\u001b[0m \u001b[0;32mis\u001b[0m \u001b[0;32mNone\u001b[0m\u001b[0;34m:\u001b[0m\u001b[0;34m\u001b[0m\u001b[0;34m\u001b[0m\u001b[0m\n\u001b[1;32m    396\u001b[0m             \u001b[0mcomponent_cfg\u001b[0m \u001b[0;34m=\u001b[0m \u001b[0;34m{\u001b[0m\u001b[0;34m}\u001b[0m\u001b[0;34m\u001b[0m\u001b[0;34m\u001b[0m\u001b[0m\n",
            "\u001b[0;32m/usr/local/lib/python3.6/dist-packages/spacy/language.py\u001b[0m in \u001b[0;36mmake_doc\u001b[0;34m(self, text)\u001b[0m\n\u001b[1;32m    416\u001b[0m \u001b[0;34m\u001b[0m\u001b[0m\n\u001b[1;32m    417\u001b[0m     \u001b[0;32mdef\u001b[0m \u001b[0mmake_doc\u001b[0m\u001b[0;34m(\u001b[0m\u001b[0mself\u001b[0m\u001b[0;34m,\u001b[0m \u001b[0mtext\u001b[0m\u001b[0;34m)\u001b[0m\u001b[0;34m:\u001b[0m\u001b[0;34m\u001b[0m\u001b[0;34m\u001b[0m\u001b[0m\n\u001b[0;32m--> 418\u001b[0;31m         \u001b[0;32mreturn\u001b[0m \u001b[0mself\u001b[0m\u001b[0;34m.\u001b[0m\u001b[0mtokenizer\u001b[0m\u001b[0;34m(\u001b[0m\u001b[0mtext\u001b[0m\u001b[0;34m)\u001b[0m\u001b[0;34m\u001b[0m\u001b[0;34m\u001b[0m\u001b[0m\n\u001b[0m\u001b[1;32m    419\u001b[0m \u001b[0;34m\u001b[0m\u001b[0m\n\u001b[1;32m    420\u001b[0m     \u001b[0;32mdef\u001b[0m \u001b[0mupdate\u001b[0m\u001b[0;34m(\u001b[0m\u001b[0mself\u001b[0m\u001b[0;34m,\u001b[0m \u001b[0mdocs\u001b[0m\u001b[0;34m,\u001b[0m \u001b[0mgolds\u001b[0m\u001b[0;34m,\u001b[0m \u001b[0mdrop\u001b[0m\u001b[0;34m=\u001b[0m\u001b[0;36m0.0\u001b[0m\u001b[0;34m,\u001b[0m \u001b[0msgd\u001b[0m\u001b[0;34m=\u001b[0m\u001b[0;32mNone\u001b[0m\u001b[0;34m,\u001b[0m \u001b[0mlosses\u001b[0m\u001b[0;34m=\u001b[0m\u001b[0;32mNone\u001b[0m\u001b[0;34m,\u001b[0m \u001b[0mcomponent_cfg\u001b[0m\u001b[0;34m=\u001b[0m\u001b[0;32mNone\u001b[0m\u001b[0;34m)\u001b[0m\u001b[0;34m:\u001b[0m\u001b[0;34m\u001b[0m\u001b[0;34m\u001b[0m\u001b[0m\n",
            "\u001b[0;32mtokenizer.pyx\u001b[0m in \u001b[0;36mspacy.tokenizer.Tokenizer.__call__\u001b[0;34m()\u001b[0m\n",
            "\u001b[0;32mtokenizer.pyx\u001b[0m in \u001b[0;36mspacy.tokenizer.Tokenizer._tokenize\u001b[0;34m()\u001b[0m\n",
            "\u001b[0;32mtokenizer.pyx\u001b[0m in \u001b[0;36mspacy.tokenizer.Tokenizer._attach_tokens\u001b[0;34m()\u001b[0m\n",
            "\u001b[0;32mvocab.pyx\u001b[0m in \u001b[0;36mspacy.vocab.Vocab.get\u001b[0;34m()\u001b[0m\n",
            "\u001b[0;32mvocab.pyx\u001b[0m in \u001b[0;36mspacy.vocab.Vocab._new_lexeme\u001b[0;34m()\u001b[0m\n",
            "\u001b[0;32m/usr/local/lib/python3.6/dist-packages/spacy/lang/lex_attrs.py\u001b[0m in \u001b[0;36mlower\u001b[0;34m(string)\u001b[0m\n\u001b[1;32m    175\u001b[0m \u001b[0;34m\u001b[0m\u001b[0m\n\u001b[1;32m    176\u001b[0m \u001b[0;34m\u001b[0m\u001b[0m\n\u001b[0;32m--> 177\u001b[0;31m \u001b[0;32mdef\u001b[0m \u001b[0mlower\u001b[0m\u001b[0;34m(\u001b[0m\u001b[0mstring\u001b[0m\u001b[0;34m)\u001b[0m\u001b[0;34m:\u001b[0m\u001b[0;34m\u001b[0m\u001b[0;34m\u001b[0m\u001b[0m\n\u001b[0m\u001b[1;32m    178\u001b[0m     \u001b[0;32mreturn\u001b[0m \u001b[0mstring\u001b[0m\u001b[0;34m.\u001b[0m\u001b[0mlower\u001b[0m\u001b[0;34m(\u001b[0m\u001b[0;34m)\u001b[0m\u001b[0;34m\u001b[0m\u001b[0;34m\u001b[0m\u001b[0m\n\u001b[1;32m    179\u001b[0m \u001b[0;34m\u001b[0m\u001b[0m\n",
            "\u001b[0;31mKeyboardInterrupt\u001b[0m: "
          ]
        }
      ]
    }
  ]
}